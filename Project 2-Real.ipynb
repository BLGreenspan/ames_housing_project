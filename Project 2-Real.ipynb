{
 "cells": [
  {
   "cell_type": "markdown",
   "metadata": {},
   "source": [
    "# Predicting Sale Prices for Ames Iowa Housing Dataset... For Evil"
   ]
  },
  {
   "cell_type": "markdown",
   "metadata": {},
   "source": [
    "#### By: Brandon Greenspan: [LinkedIn](https://https://www.linkedin.com/in/brandonlgreenspan)"
   ]
  },
  {
   "cell_type": "markdown",
   "metadata": {},
   "source": [
    "### Table of Contents:\n",
    "- [Problem Statement](#Problem-Statement)\n",
    "- [Executive Summary](#Executive-Summary)\n",
    "- [Loading Data](#Loading-Data)\n",
    "- [Data Cleaning](#Data-Cleaning)\n",
    "- [EDA](#EDA)\n",
    "- [Model Preparation](#Model-Preparation)\n",
    "- [Modeling](#Modeling)\n",
    "    - [Baseline Model](#Baseline-Model)\n",
    "    - [Linear Regression](#Linear-Regression)\n",
    "    - [Ridge Model](#Ridge)\n",
    "    - [Lasso Model](#Lasso)\n",
    "    - [Improved Linear Regression](#Improved-Linear-Regression-By-Eliminating-Zero-Coefficients)\n",
    "- [Model Selection](#Model-Selection)\n",
    "- [Model Evaluation](#Model-Evaluation)\n",
    "- [Conclusion](#Conclusion)\n",
    "    - [Recommendations](#Recommendations)\n",
    "    - [Future Steps](#Future-Steps)\n",
    "- [References](#References)\n"
   ]
  },
  {
   "cell_type": "markdown",
   "metadata": {},
   "source": [
    "## Problem Statement\n",
    "\n",
    "Dr. Evil needs to build a new lair, and since Iowa State has the best Evil Communications school in the country, he chose Ames, IA for their workforce.\n",
    "ONE MILLION DOLLARS doesn’t doesn’t run a freaking evil empire like it used to, ok?  We need to budget wisely, and that can’t all go to the house.\n",
    "When Dr. Evil commandeers a house, he pays what he thinks is fair, so he wants me, his Number 3, to determine what fair is, and doesn’t want me to be wrong.  He’ll punish me if we pay more than $50,000 off from the actual value, making RMSE our metric because it is measured in the same unit as our predictive value.  I don’t want to be wrong and be very badly hurt.\n",
    "All I had to make my predictions were data from the Ames Assessor’s Office on properties sold from 2006-2010.  This was collected by Dr. Dean De Cock at Truman State University.\n",
    "Using a lasso regression, I take my evil features and do my best to minimize the predictive error."
   ]
  },
  {
   "cell_type": "markdown",
   "metadata": {},
   "source": [
    "## Executive Summary\n",
    "\n",
    "Dr. Evil needs an evil lair and has decided to build it in Ames, IA in order to take advantage of the local workforce.  Iowa State is home to the most evil Communications program in the nation, which will make for good evil employees.\n",
    "\n",
    "In order to best understand the housing market, the Evil Doctor, Doctor Evil, has assigned me, Number 3, to build a \"model\" that accurately predicts housing prices in Ames.  After loading in the data from Dr. De Cock (not an evil Doctor), I had a lot of evil cleaning to take care of.  Dr. Evil did not want me to eliminate any outliers because he did not want to eliminate any potential homes that might have had built-in \"magma\" chambers.  Even though, I informed him that it wasn't an option under the misc. category, he promptly reminded me of his evil credentials, and I obliged.  After filling in null values as zeros or \"none\" depending on the intended datatype, and changing ordinal categories to numerical values, EDA revealed the different features that already had a linear relationship with sale price.\n",
    "\n",
    "We wouldn't be much of an established evil organization without good feature engineering practices.  While usually reserved for engineering evil animals like a lemhog (lemming * hog), we redesigned it to evil engineer features for our \"model.\"  Rumor has it that Dr. Evil's father feature engineered the question mark.  A lot of our engineered features showed strong correlations to price, especially our \"Evil Petting Zoo\" feature which looked at high quality outdoor space which we interacted with Miami's area code (which is usually a predictor of success among evil bald men).  We started with a simple model of only 10 features, but when Dr. Evil learned that he doesn't pay extra for extra features, he wanted all of the freaking evil features in the \"model,\" so we used all 242 to start.\n",
    "\n",
    "Using the RMSE as our evaluative metric, we run a Linear Model to approve upon the baseline and then utilize a Ridge and Lasso model to indicate which features we should select for a new and improved Linear Model."
   ]
  },
  {
   "cell_type": "markdown",
   "metadata": {},
   "source": [
    "## Loading Data"
   ]
  },
  {
   "cell_type": "code",
   "execution_count": 1,
   "metadata": {},
   "outputs": [],
   "source": [
    "import warnings\n",
    "warnings.filterwarnings(\"ignore\") \n",
    "import numpy as np\n",
    "import pandas as pd\n",
    "from sklearn.linear_model import LinearRegression, Ridge, RidgeCV, Lasso, LassoCV\n",
    "from sklearn.model_selection import train_test_split, cross_val_score\n",
    "from sklearn.metrics import mean_squared_error, make_scorer\n",
    "from scipy import stats\n",
    "import seaborn as sns\n",
    "import matplotlib.pyplot as plt\n",
    "import statsmodels.api as sm\n",
    "from sklearn.preprocessing import StandardScaler\n",
    "from sklearn.dummy import DummyRegressor\n",
    "\n",
    "RANDOM_STATE = 90210\n",
    "\n",
    "%matplotlib inline"
   ]
  },
  {
   "cell_type": "code",
   "execution_count": 2,
   "metadata": {},
   "outputs": [],
   "source": [
    "df = pd.read_csv('../datasets/train.csv') #called train.csv, but this is our dataset\n",
    "test_df = pd.read_csv('../datasets/test.csv') # test dataset"
   ]
  },
  {
   "cell_type": "code",
   "execution_count": 3,
   "metadata": {
    "scrolled": true
   },
   "outputs": [
    {
     "data": {
      "text/html": [
       "<div>\n",
       "<style scoped>\n",
       "    .dataframe tbody tr th:only-of-type {\n",
       "        vertical-align: middle;\n",
       "    }\n",
       "\n",
       "    .dataframe tbody tr th {\n",
       "        vertical-align: top;\n",
       "    }\n",
       "\n",
       "    .dataframe thead th {\n",
       "        text-align: right;\n",
       "    }\n",
       "</style>\n",
       "<table border=\"1\" class=\"dataframe\">\n",
       "  <thead>\n",
       "    <tr style=\"text-align: right;\">\n",
       "      <th></th>\n",
       "      <th>Id</th>\n",
       "      <th>PID</th>\n",
       "      <th>MS SubClass</th>\n",
       "      <th>MS Zoning</th>\n",
       "      <th>Lot Frontage</th>\n",
       "      <th>Lot Area</th>\n",
       "      <th>Street</th>\n",
       "      <th>Alley</th>\n",
       "      <th>Lot Shape</th>\n",
       "      <th>Land Contour</th>\n",
       "      <th>...</th>\n",
       "      <th>Screen Porch</th>\n",
       "      <th>Pool Area</th>\n",
       "      <th>Pool QC</th>\n",
       "      <th>Fence</th>\n",
       "      <th>Misc Feature</th>\n",
       "      <th>Misc Val</th>\n",
       "      <th>Mo Sold</th>\n",
       "      <th>Yr Sold</th>\n",
       "      <th>Sale Type</th>\n",
       "      <th>SalePrice</th>\n",
       "    </tr>\n",
       "  </thead>\n",
       "  <tbody>\n",
       "    <tr>\n",
       "      <th>0</th>\n",
       "      <td>109</td>\n",
       "      <td>533352170</td>\n",
       "      <td>60</td>\n",
       "      <td>RL</td>\n",
       "      <td>NaN</td>\n",
       "      <td>13517</td>\n",
       "      <td>Pave</td>\n",
       "      <td>NaN</td>\n",
       "      <td>IR1</td>\n",
       "      <td>Lvl</td>\n",
       "      <td>...</td>\n",
       "      <td>0</td>\n",
       "      <td>0</td>\n",
       "      <td>NaN</td>\n",
       "      <td>NaN</td>\n",
       "      <td>NaN</td>\n",
       "      <td>0</td>\n",
       "      <td>3</td>\n",
       "      <td>2010</td>\n",
       "      <td>WD</td>\n",
       "      <td>130500</td>\n",
       "    </tr>\n",
       "    <tr>\n",
       "      <th>1</th>\n",
       "      <td>544</td>\n",
       "      <td>531379050</td>\n",
       "      <td>60</td>\n",
       "      <td>RL</td>\n",
       "      <td>43.0</td>\n",
       "      <td>11492</td>\n",
       "      <td>Pave</td>\n",
       "      <td>NaN</td>\n",
       "      <td>IR1</td>\n",
       "      <td>Lvl</td>\n",
       "      <td>...</td>\n",
       "      <td>0</td>\n",
       "      <td>0</td>\n",
       "      <td>NaN</td>\n",
       "      <td>NaN</td>\n",
       "      <td>NaN</td>\n",
       "      <td>0</td>\n",
       "      <td>4</td>\n",
       "      <td>2009</td>\n",
       "      <td>WD</td>\n",
       "      <td>220000</td>\n",
       "    </tr>\n",
       "    <tr>\n",
       "      <th>2</th>\n",
       "      <td>153</td>\n",
       "      <td>535304180</td>\n",
       "      <td>20</td>\n",
       "      <td>RL</td>\n",
       "      <td>68.0</td>\n",
       "      <td>7922</td>\n",
       "      <td>Pave</td>\n",
       "      <td>NaN</td>\n",
       "      <td>Reg</td>\n",
       "      <td>Lvl</td>\n",
       "      <td>...</td>\n",
       "      <td>0</td>\n",
       "      <td>0</td>\n",
       "      <td>NaN</td>\n",
       "      <td>NaN</td>\n",
       "      <td>NaN</td>\n",
       "      <td>0</td>\n",
       "      <td>1</td>\n",
       "      <td>2010</td>\n",
       "      <td>WD</td>\n",
       "      <td>109000</td>\n",
       "    </tr>\n",
       "    <tr>\n",
       "      <th>3</th>\n",
       "      <td>318</td>\n",
       "      <td>916386060</td>\n",
       "      <td>60</td>\n",
       "      <td>RL</td>\n",
       "      <td>73.0</td>\n",
       "      <td>9802</td>\n",
       "      <td>Pave</td>\n",
       "      <td>NaN</td>\n",
       "      <td>Reg</td>\n",
       "      <td>Lvl</td>\n",
       "      <td>...</td>\n",
       "      <td>0</td>\n",
       "      <td>0</td>\n",
       "      <td>NaN</td>\n",
       "      <td>NaN</td>\n",
       "      <td>NaN</td>\n",
       "      <td>0</td>\n",
       "      <td>4</td>\n",
       "      <td>2010</td>\n",
       "      <td>WD</td>\n",
       "      <td>174000</td>\n",
       "    </tr>\n",
       "    <tr>\n",
       "      <th>4</th>\n",
       "      <td>255</td>\n",
       "      <td>906425045</td>\n",
       "      <td>50</td>\n",
       "      <td>RL</td>\n",
       "      <td>82.0</td>\n",
       "      <td>14235</td>\n",
       "      <td>Pave</td>\n",
       "      <td>NaN</td>\n",
       "      <td>IR1</td>\n",
       "      <td>Lvl</td>\n",
       "      <td>...</td>\n",
       "      <td>0</td>\n",
       "      <td>0</td>\n",
       "      <td>NaN</td>\n",
       "      <td>NaN</td>\n",
       "      <td>NaN</td>\n",
       "      <td>0</td>\n",
       "      <td>3</td>\n",
       "      <td>2010</td>\n",
       "      <td>WD</td>\n",
       "      <td>138500</td>\n",
       "    </tr>\n",
       "  </tbody>\n",
       "</table>\n",
       "<p>5 rows × 81 columns</p>\n",
       "</div>"
      ],
      "text/plain": [
       "    Id        PID  MS SubClass MS Zoning  Lot Frontage  Lot Area Street Alley  \\\n",
       "0  109  533352170           60        RL           NaN     13517   Pave   NaN   \n",
       "1  544  531379050           60        RL          43.0     11492   Pave   NaN   \n",
       "2  153  535304180           20        RL          68.0      7922   Pave   NaN   \n",
       "3  318  916386060           60        RL          73.0      9802   Pave   NaN   \n",
       "4  255  906425045           50        RL          82.0     14235   Pave   NaN   \n",
       "\n",
       "  Lot Shape Land Contour  ... Screen Porch Pool Area Pool QC Fence  \\\n",
       "0       IR1          Lvl  ...            0         0     NaN   NaN   \n",
       "1       IR1          Lvl  ...            0         0     NaN   NaN   \n",
       "2       Reg          Lvl  ...            0         0     NaN   NaN   \n",
       "3       Reg          Lvl  ...            0         0     NaN   NaN   \n",
       "4       IR1          Lvl  ...            0         0     NaN   NaN   \n",
       "\n",
       "  Misc Feature Misc Val Mo Sold Yr Sold  Sale Type  SalePrice  \n",
       "0          NaN        0       3    2010        WD      130500  \n",
       "1          NaN        0       4    2009        WD      220000  \n",
       "2          NaN        0       1    2010        WD      109000  \n",
       "3          NaN        0       4    2010        WD      174000  \n",
       "4          NaN        0       3    2010        WD      138500  \n",
       "\n",
       "[5 rows x 81 columns]"
      ]
     },
     "execution_count": 3,
     "metadata": {},
     "output_type": "execute_result"
    }
   ],
   "source": [
    "df.head()"
   ]
  },
  {
   "cell_type": "code",
   "execution_count": 4,
   "metadata": {},
   "outputs": [],
   "source": [
    "df.columns = df.columns.str.lower().str.replace(' ', '_')\n",
    "# converts to snake case"
   ]
  },
  {
   "cell_type": "markdown",
   "metadata": {},
   "source": [
    "## Data Cleaning"
   ]
  },
  {
   "cell_type": "code",
   "execution_count": 5,
   "metadata": {
    "scrolled": true
   },
   "outputs": [
    {
     "data": {
      "text/plain": [
       "lot_frontage       330\n",
       "alley             1911\n",
       "mas_vnr_type        22\n",
       "mas_vnr_area        22\n",
       "bsmt_qual           55\n",
       "bsmt_cond           55\n",
       "bsmt_exposure       58\n",
       "bsmtfin_type_1      55\n",
       "bsmtfin_sf_1         1\n",
       "bsmtfin_type_2      56\n",
       "bsmtfin_sf_2         1\n",
       "bsmt_unf_sf          1\n",
       "total_bsmt_sf        1\n",
       "bsmt_full_bath       2\n",
       "bsmt_half_bath       2\n",
       "fireplace_qu      1000\n",
       "garage_type        113\n",
       "garage_yr_blt      114\n",
       "garage_finish      114\n",
       "garage_cars          1\n",
       "garage_area          1\n",
       "garage_qual        114\n",
       "garage_cond        114\n",
       "pool_qc           2042\n",
       "fence             1651\n",
       "misc_feature      1986\n",
       "dtype: int64"
      ]
     },
     "execution_count": 5,
     "metadata": {},
     "output_type": "execute_result"
    }
   ],
   "source": [
    "#get total nulls\n",
    "df.isnull().sum()[df.isnull().sum() > 0]"
   ]
  },
  {
   "cell_type": "code",
   "execution_count": 6,
   "metadata": {},
   "outputs": [],
   "source": [
    "df['ms_subclass'] = df['ms_subclass'].astype(str)"
   ]
  },
  {
   "cell_type": "markdown",
   "metadata": {},
   "source": [
    "While 'ms_subclass' was entered as integers to denote house subclass, the integers don't actually hold any value, so I changed the type to a string to avoid any confusion down the road."
   ]
  },
  {
   "cell_type": "code",
   "execution_count": 7,
   "metadata": {},
   "outputs": [],
   "source": [
    "replacement_dict = {'alley' : {np.nan : 'none'},\n",
    "                    'lot_frontage': {np.nan : 0},\n",
    "                    'lot_shape' : {'Reg' : 4, 'IR1' : 3, 'IR2': 2, 'IR3': 1},\n",
    "                    'utilities': {'Allpub': 4, 'NoSewr' : 3, 'NoSewa' : 2, 'ELO': 1},\n",
    "                    'land_slope' : {'GT1': 3, 'Mod': 2, 'Sev': 1},\n",
    "                    'mas_vnr_type' : {np.nan : 'none'},\n",
    "                    'mas_vnr_area': {np.nan : 0},\n",
    "                    'bsmt_qual': {'Ex': 5, 'Gd': 4, 'TA': 3, 'Fa': 2, 'Po': 1, np.nan: 0},\n",
    "                    'bsmt_cond': {'Ex': 5, 'Gd': 4, 'TA': 3, 'Fa': 2, 'Po': 1, np.nan: 0},\n",
    "                    'bsmt_exposure': {'Gd': 4, 'Av': 3, 'Mn': 2, 'No': 1, np.nan: 0},\n",
    "                    'bsmtfin_type_1': {'GLQ': 6, 'ALQ': 5, 'BLQ': 4, 'Rec': 3, 'LwQ': 2, 'Unf': 1, np.nan: 0},\n",
    "                    'bsmtfin_sf_1': {np.nan: 0},\n",
    "                    'bsmtfin_type_2': {'GLQ': 6, 'ALQ': 5, 'BLQ': 4, 'Rec': 3, 'LwQ': 2, 'Unf': 1, np.nan: 0},\n",
    "                    'bsmtfin_sf_2': {np.nan: 0},\n",
    "                    'bsmt_unf_sf': {np.nan: 0},\n",
    "                    'total_bsmt_sf': {np.nan: 0},\n",
    "                    'exter_qual': {'Ex': 5, 'Gd': 4, 'TA': 3, 'Fa': 2, 'Po': 1},\n",
    "                    'exter_cond': {'Ex': 5, 'Gd': 4, 'TA': 3, 'Fa': 2, 'Po': 1},\n",
    "                    'heating_qc': {'Ex': 5, 'Gd': 4, 'TA': 3, 'Fa': 2, 'Po': 1},\n",
    "                    'electrical': {'SBrkr': 5, 'FuseA': 4, 'FuseF': 3, 'FuseP': 2, 'Mix': 1},\n",
    "                    'bsmt_full_bath': {np.nan: 0},\n",
    "                    'bsmt_half_bath': {np.nan: 0},\n",
    "                    'kitchen_qual': {'Ex': 5, 'Gd': 4, 'TA': 3, 'Fa': 2, 'Po': 1},\n",
    "                    'functional': {'Typ': 8, 'Min1': 7, 'Min2': 6, 'Mod': 5, 'Maj1': 4, 'Maj2': 3, 'Sev': 2, 'Sal': 1},\n",
    "                    'fireplace_qu': {'Ex': 5, 'Gd': 4, 'TA': 3, 'Fa': 2, 'Po': 1, np.nan: 0},\n",
    "                    'garage_type': {np.nan: 'none'},\n",
    "                    'garage_yr_blt': {np.nan: 0},\n",
    "                    'garage_finish': {'Fin': 3, 'RFn': 2, 'Unf': 1, np.nan: 0},\n",
    "                    'garage_cars': {np.nan: 0.0},\n",
    "                    'garage_area': {np.nan: 0.0},\n",
    "                    'garage_qual': {'Ex': 5, 'Gd': 4, 'TA': 3, 'Fa': 2, 'Po': 1, np.nan: 0},\n",
    "                    'garage_cond': {'Ex': 5, 'Gd': 4, 'TA': 3, 'Fa': 2, 'Po': 1, np.nan: 0},\n",
    "                    'paved_drive': {'Y': 3, 'P': 2, 'N': 1},\n",
    "                    'pool_qc': {'Ex': 4, 'Gd': 3, 'TA': 2, 'Fa': 1, np.nan: 0},\n",
    "                    'fence': {'GdPrv': 4, 'MnPrv': 3, 'GdWo': 2, 'MnWw': 1, np.nan: 0},\n",
    "                    'misc_feature': {np.nan: 'none'}\n",
    "                    \n",
    "                    \n",
    "    }\n",
    "\n",
    "\n",
    "df = df.replace(replacement_dict)\n",
    "\n"
   ]
  },
  {
   "cell_type": "markdown",
   "metadata": {},
   "source": [
    "Data dictionary changes null values in proper accordance with the column datatype and also assigns values to ordinal columns.  Changed null values to zeros when it came to floats and integers."
   ]
  },
  {
   "cell_type": "code",
   "execution_count": 8,
   "metadata": {
    "scrolled": true
   },
   "outputs": [
    {
     "data": {
      "text/html": [
       "<div>\n",
       "<style scoped>\n",
       "    .dataframe tbody tr th:only-of-type {\n",
       "        vertical-align: middle;\n",
       "    }\n",
       "\n",
       "    .dataframe tbody tr th {\n",
       "        vertical-align: top;\n",
       "    }\n",
       "\n",
       "    .dataframe thead th {\n",
       "        text-align: right;\n",
       "    }\n",
       "</style>\n",
       "<table border=\"1\" class=\"dataframe\">\n",
       "  <thead>\n",
       "    <tr style=\"text-align: right;\">\n",
       "      <th></th>\n",
       "      <th>id</th>\n",
       "      <th>pid</th>\n",
       "      <th>ms_subclass</th>\n",
       "      <th>ms_zoning</th>\n",
       "      <th>lot_frontage</th>\n",
       "      <th>lot_area</th>\n",
       "      <th>street</th>\n",
       "      <th>alley</th>\n",
       "      <th>lot_shape</th>\n",
       "      <th>land_contour</th>\n",
       "      <th>...</th>\n",
       "      <th>screen_porch</th>\n",
       "      <th>pool_area</th>\n",
       "      <th>pool_qc</th>\n",
       "      <th>fence</th>\n",
       "      <th>misc_feature</th>\n",
       "      <th>misc_val</th>\n",
       "      <th>mo_sold</th>\n",
       "      <th>yr_sold</th>\n",
       "      <th>sale_type</th>\n",
       "      <th>saleprice</th>\n",
       "    </tr>\n",
       "  </thead>\n",
       "  <tbody>\n",
       "    <tr>\n",
       "      <th>0</th>\n",
       "      <td>109</td>\n",
       "      <td>533352170</td>\n",
       "      <td>60</td>\n",
       "      <td>RL</td>\n",
       "      <td>0.0</td>\n",
       "      <td>13517</td>\n",
       "      <td>Pave</td>\n",
       "      <td>none</td>\n",
       "      <td>3</td>\n",
       "      <td>Lvl</td>\n",
       "      <td>...</td>\n",
       "      <td>0</td>\n",
       "      <td>0</td>\n",
       "      <td>0</td>\n",
       "      <td>0</td>\n",
       "      <td>none</td>\n",
       "      <td>0</td>\n",
       "      <td>3</td>\n",
       "      <td>2010</td>\n",
       "      <td>WD</td>\n",
       "      <td>130500</td>\n",
       "    </tr>\n",
       "    <tr>\n",
       "      <th>1</th>\n",
       "      <td>544</td>\n",
       "      <td>531379050</td>\n",
       "      <td>60</td>\n",
       "      <td>RL</td>\n",
       "      <td>43.0</td>\n",
       "      <td>11492</td>\n",
       "      <td>Pave</td>\n",
       "      <td>none</td>\n",
       "      <td>3</td>\n",
       "      <td>Lvl</td>\n",
       "      <td>...</td>\n",
       "      <td>0</td>\n",
       "      <td>0</td>\n",
       "      <td>0</td>\n",
       "      <td>0</td>\n",
       "      <td>none</td>\n",
       "      <td>0</td>\n",
       "      <td>4</td>\n",
       "      <td>2009</td>\n",
       "      <td>WD</td>\n",
       "      <td>220000</td>\n",
       "    </tr>\n",
       "    <tr>\n",
       "      <th>2</th>\n",
       "      <td>153</td>\n",
       "      <td>535304180</td>\n",
       "      <td>20</td>\n",
       "      <td>RL</td>\n",
       "      <td>68.0</td>\n",
       "      <td>7922</td>\n",
       "      <td>Pave</td>\n",
       "      <td>none</td>\n",
       "      <td>4</td>\n",
       "      <td>Lvl</td>\n",
       "      <td>...</td>\n",
       "      <td>0</td>\n",
       "      <td>0</td>\n",
       "      <td>0</td>\n",
       "      <td>0</td>\n",
       "      <td>none</td>\n",
       "      <td>0</td>\n",
       "      <td>1</td>\n",
       "      <td>2010</td>\n",
       "      <td>WD</td>\n",
       "      <td>109000</td>\n",
       "    </tr>\n",
       "    <tr>\n",
       "      <th>3</th>\n",
       "      <td>318</td>\n",
       "      <td>916386060</td>\n",
       "      <td>60</td>\n",
       "      <td>RL</td>\n",
       "      <td>73.0</td>\n",
       "      <td>9802</td>\n",
       "      <td>Pave</td>\n",
       "      <td>none</td>\n",
       "      <td>4</td>\n",
       "      <td>Lvl</td>\n",
       "      <td>...</td>\n",
       "      <td>0</td>\n",
       "      <td>0</td>\n",
       "      <td>0</td>\n",
       "      <td>0</td>\n",
       "      <td>none</td>\n",
       "      <td>0</td>\n",
       "      <td>4</td>\n",
       "      <td>2010</td>\n",
       "      <td>WD</td>\n",
       "      <td>174000</td>\n",
       "    </tr>\n",
       "    <tr>\n",
       "      <th>4</th>\n",
       "      <td>255</td>\n",
       "      <td>906425045</td>\n",
       "      <td>50</td>\n",
       "      <td>RL</td>\n",
       "      <td>82.0</td>\n",
       "      <td>14235</td>\n",
       "      <td>Pave</td>\n",
       "      <td>none</td>\n",
       "      <td>3</td>\n",
       "      <td>Lvl</td>\n",
       "      <td>...</td>\n",
       "      <td>0</td>\n",
       "      <td>0</td>\n",
       "      <td>0</td>\n",
       "      <td>0</td>\n",
       "      <td>none</td>\n",
       "      <td>0</td>\n",
       "      <td>3</td>\n",
       "      <td>2010</td>\n",
       "      <td>WD</td>\n",
       "      <td>138500</td>\n",
       "    </tr>\n",
       "  </tbody>\n",
       "</table>\n",
       "<p>5 rows × 81 columns</p>\n",
       "</div>"
      ],
      "text/plain": [
       "    id        pid ms_subclass ms_zoning  lot_frontage  lot_area street alley  \\\n",
       "0  109  533352170          60        RL           0.0     13517   Pave  none   \n",
       "1  544  531379050          60        RL          43.0     11492   Pave  none   \n",
       "2  153  535304180          20        RL          68.0      7922   Pave  none   \n",
       "3  318  916386060          60        RL          73.0      9802   Pave  none   \n",
       "4  255  906425045          50        RL          82.0     14235   Pave  none   \n",
       "\n",
       "   lot_shape land_contour  ... screen_porch pool_area pool_qc fence  \\\n",
       "0          3          Lvl  ...            0         0       0     0   \n",
       "1          3          Lvl  ...            0         0       0     0   \n",
       "2          4          Lvl  ...            0         0       0     0   \n",
       "3          4          Lvl  ...            0         0       0     0   \n",
       "4          3          Lvl  ...            0         0       0     0   \n",
       "\n",
       "  misc_feature misc_val mo_sold yr_sold  sale_type  saleprice  \n",
       "0         none        0       3    2010        WD      130500  \n",
       "1         none        0       4    2009        WD      220000  \n",
       "2         none        0       1    2010        WD      109000  \n",
       "3         none        0       4    2010        WD      174000  \n",
       "4         none        0       3    2010        WD      138500  \n",
       "\n",
       "[5 rows x 81 columns]"
      ]
     },
     "execution_count": 8,
     "metadata": {},
     "output_type": "execute_result"
    }
   ],
   "source": [
    "df.head()"
   ]
  },
  {
   "cell_type": "code",
   "execution_count": 9,
   "metadata": {},
   "outputs": [
    {
     "data": {
      "text/plain": [
       "81"
      ]
     },
     "execution_count": 9,
     "metadata": {},
     "output_type": "execute_result"
    }
   ],
   "source": [
    "df.isnull().sum().sort_values().count()"
   ]
  },
  {
   "cell_type": "code",
   "execution_count": 10,
   "metadata": {},
   "outputs": [],
   "source": [
    "df = pd.get_dummies(df, columns= ['ms_subclass', 'ms_zoning', 'street', 'alley', 'land_contour',\n",
    "                                 'utilities', 'lot_config', 'land_slope', 'neighborhood', 'condition_1',\n",
    "                                 'condition_2', 'bldg_type', 'house_style', 'roof_style', 'roof_matl',\n",
    "                                 'exterior_1st', 'exterior_2nd', 'mas_vnr_type', 'foundation',\n",
    "                                 'heating', 'central_air', 'garage_type', 'misc_feature'])\n"
   ]
  },
  {
   "cell_type": "markdown",
   "metadata": {},
   "source": [
    "Got dummy columns for categorical data"
   ]
  },
  {
   "cell_type": "code",
   "execution_count": 11,
   "metadata": {
    "scrolled": true
   },
   "outputs": [
    {
     "data": {
      "text/plain": [
       "Series([], dtype: int64)"
      ]
     },
     "execution_count": 11,
     "metadata": {},
     "output_type": "execute_result"
    }
   ],
   "source": [
    "df.isnull().sum()[df.isnull().sum() > 0]"
   ]
  },
  {
   "cell_type": "markdown",
   "metadata": {},
   "source": [
    "After everything has been dummied, we no longer have null values."
   ]
  },
  {
   "cell_type": "code",
   "execution_count": 12,
   "metadata": {},
   "outputs": [],
   "source": [
    "df['sf_t'] = df['1st_flr_sf'] + df['2nd_flr_sf'] + df['total_bsmt_sf'] # allows for area to have a greater impact\n",
    "df['evil_garage'] = df['garage_cars'] * df['garage_area'] # garages had a strong correlation in 2 areas, this intensifies impact\n",
    "df['evil_baths'] = df['full_bath'] + (df['half_bath'] * .5) # adds bathrooms together\n",
    "df['evil_fire'] = (df['fireplace_qu'] * df['fireplaces'])**2 # similar to garages, wanted to intesify correlation of fireplaces\n",
    "df['evil_air'] = (df['central_air_Y']* df['heating_qc'])**2 * df['evil_fire'] * df['electrical'] # gives greater weight to high quality utilities\n",
    "df['evil_basement'] = df['bsmt_qual'] * df['total_bsmt_sf'] * df['bsmt_exposure'] # further rewards basement features\n",
    "df['evil_mcfly'] = df['year_built'] * df['year_remod/add'] # helps improve linear relationship between house age and sale price\n",
    "df['evil_fieri'] = df['evil_fire'] * df['kitchen_qual'] * df['evil_garage'] # this was just some mad science\n",
    "df['evil_petting_zoo'] = (df['exter_qual']* df['gr_liv_area'])* 305 #because Miami is the most evil city we could think of\n",
    "df['evil_fence'] = df['electrical'] * df['fence'] # more mad science out of curiousity\n",
    "df['evil_lot']= -1 * (df['lot_shape'])**2 # intensifies linearity by squaring, since there was a negative correlation, had to turn it back to a negative\n",
    "df['good_specs'] = -1* (df['mas_vnr_type_None'] * df['foundation_CBlock'] * df['garage_type_Detchd'])**2 # same principle as evil lot\n",
    "df['freakin_laser'] = df['evil_fieri']*df['evil_petting_zoo']*df['evil_mcfly'] # last bout of mad science"
   ]
  },
  {
   "cell_type": "code",
   "execution_count": 13,
   "metadata": {},
   "outputs": [],
   "source": [
    "df = df.drop(columns = ['1st_flr_sf', '2nd_flr_sf', 'total_bsmt_sf', 'full_bath', 'half_bath'])"
   ]
  },
  {
   "cell_type": "markdown",
   "metadata": {},
   "source": [
    "Feature engineering:\n",
    "Ok, I had a little fun here, but my logic was to intensify features that had a greater impact by engineering more impactful features.  Note- any features described as \"mad science\" were simply just me playing around with features out of sheer curiousity.  I made sure to drop the columns involved in any addition or subtraction within feature engineering to ensure independence of variables in the linear model.\n",
    "\n",
    "While I could have a lot more fun doing more feature engineering, we now need to duplicate our cleaning process and use it on the test set."
   ]
  },
  {
   "cell_type": "code",
   "execution_count": 14,
   "metadata": {
    "scrolled": true
   },
   "outputs": [
    {
     "data": {
      "text/html": [
       "<div>\n",
       "<style scoped>\n",
       "    .dataframe tbody tr th:only-of-type {\n",
       "        vertical-align: middle;\n",
       "    }\n",
       "\n",
       "    .dataframe tbody tr th {\n",
       "        vertical-align: top;\n",
       "    }\n",
       "\n",
       "    .dataframe thead th {\n",
       "        text-align: right;\n",
       "    }\n",
       "</style>\n",
       "<table border=\"1\" class=\"dataframe\">\n",
       "  <thead>\n",
       "    <tr style=\"text-align: right;\">\n",
       "      <th></th>\n",
       "      <th>Id</th>\n",
       "      <th>PID</th>\n",
       "      <th>MS SubClass</th>\n",
       "      <th>MS Zoning</th>\n",
       "      <th>Lot Frontage</th>\n",
       "      <th>Lot Area</th>\n",
       "      <th>Street</th>\n",
       "      <th>Alley</th>\n",
       "      <th>Lot Shape</th>\n",
       "      <th>Land Contour</th>\n",
       "      <th>...</th>\n",
       "      <th>3Ssn Porch</th>\n",
       "      <th>Screen Porch</th>\n",
       "      <th>Pool Area</th>\n",
       "      <th>Pool QC</th>\n",
       "      <th>Fence</th>\n",
       "      <th>Misc Feature</th>\n",
       "      <th>Misc Val</th>\n",
       "      <th>Mo Sold</th>\n",
       "      <th>Yr Sold</th>\n",
       "      <th>Sale Type</th>\n",
       "    </tr>\n",
       "  </thead>\n",
       "  <tbody>\n",
       "    <tr>\n",
       "      <th>0</th>\n",
       "      <td>2658</td>\n",
       "      <td>902301120</td>\n",
       "      <td>190</td>\n",
       "      <td>RM</td>\n",
       "      <td>69.0</td>\n",
       "      <td>9142</td>\n",
       "      <td>Pave</td>\n",
       "      <td>Grvl</td>\n",
       "      <td>Reg</td>\n",
       "      <td>Lvl</td>\n",
       "      <td>...</td>\n",
       "      <td>0</td>\n",
       "      <td>0</td>\n",
       "      <td>0</td>\n",
       "      <td>NaN</td>\n",
       "      <td>NaN</td>\n",
       "      <td>NaN</td>\n",
       "      <td>0</td>\n",
       "      <td>4</td>\n",
       "      <td>2006</td>\n",
       "      <td>WD</td>\n",
       "    </tr>\n",
       "    <tr>\n",
       "      <th>1</th>\n",
       "      <td>2718</td>\n",
       "      <td>905108090</td>\n",
       "      <td>90</td>\n",
       "      <td>RL</td>\n",
       "      <td>NaN</td>\n",
       "      <td>9662</td>\n",
       "      <td>Pave</td>\n",
       "      <td>NaN</td>\n",
       "      <td>IR1</td>\n",
       "      <td>Lvl</td>\n",
       "      <td>...</td>\n",
       "      <td>0</td>\n",
       "      <td>0</td>\n",
       "      <td>0</td>\n",
       "      <td>NaN</td>\n",
       "      <td>NaN</td>\n",
       "      <td>NaN</td>\n",
       "      <td>0</td>\n",
       "      <td>8</td>\n",
       "      <td>2006</td>\n",
       "      <td>WD</td>\n",
       "    </tr>\n",
       "    <tr>\n",
       "      <th>2</th>\n",
       "      <td>2414</td>\n",
       "      <td>528218130</td>\n",
       "      <td>60</td>\n",
       "      <td>RL</td>\n",
       "      <td>58.0</td>\n",
       "      <td>17104</td>\n",
       "      <td>Pave</td>\n",
       "      <td>NaN</td>\n",
       "      <td>IR1</td>\n",
       "      <td>Lvl</td>\n",
       "      <td>...</td>\n",
       "      <td>0</td>\n",
       "      <td>0</td>\n",
       "      <td>0</td>\n",
       "      <td>NaN</td>\n",
       "      <td>NaN</td>\n",
       "      <td>NaN</td>\n",
       "      <td>0</td>\n",
       "      <td>9</td>\n",
       "      <td>2006</td>\n",
       "      <td>New</td>\n",
       "    </tr>\n",
       "    <tr>\n",
       "      <th>3</th>\n",
       "      <td>1989</td>\n",
       "      <td>902207150</td>\n",
       "      <td>30</td>\n",
       "      <td>RM</td>\n",
       "      <td>60.0</td>\n",
       "      <td>8520</td>\n",
       "      <td>Pave</td>\n",
       "      <td>NaN</td>\n",
       "      <td>Reg</td>\n",
       "      <td>Lvl</td>\n",
       "      <td>...</td>\n",
       "      <td>0</td>\n",
       "      <td>0</td>\n",
       "      <td>0</td>\n",
       "      <td>NaN</td>\n",
       "      <td>NaN</td>\n",
       "      <td>NaN</td>\n",
       "      <td>0</td>\n",
       "      <td>7</td>\n",
       "      <td>2007</td>\n",
       "      <td>WD</td>\n",
       "    </tr>\n",
       "    <tr>\n",
       "      <th>4</th>\n",
       "      <td>625</td>\n",
       "      <td>535105100</td>\n",
       "      <td>20</td>\n",
       "      <td>RL</td>\n",
       "      <td>NaN</td>\n",
       "      <td>9500</td>\n",
       "      <td>Pave</td>\n",
       "      <td>NaN</td>\n",
       "      <td>IR1</td>\n",
       "      <td>Lvl</td>\n",
       "      <td>...</td>\n",
       "      <td>0</td>\n",
       "      <td>185</td>\n",
       "      <td>0</td>\n",
       "      <td>NaN</td>\n",
       "      <td>NaN</td>\n",
       "      <td>NaN</td>\n",
       "      <td>0</td>\n",
       "      <td>7</td>\n",
       "      <td>2009</td>\n",
       "      <td>WD</td>\n",
       "    </tr>\n",
       "  </tbody>\n",
       "</table>\n",
       "<p>5 rows × 80 columns</p>\n",
       "</div>"
      ],
      "text/plain": [
       "     Id        PID  MS SubClass MS Zoning  Lot Frontage  Lot Area Street  \\\n",
       "0  2658  902301120          190        RM          69.0      9142   Pave   \n",
       "1  2718  905108090           90        RL           NaN      9662   Pave   \n",
       "2  2414  528218130           60        RL          58.0     17104   Pave   \n",
       "3  1989  902207150           30        RM          60.0      8520   Pave   \n",
       "4   625  535105100           20        RL           NaN      9500   Pave   \n",
       "\n",
       "  Alley Lot Shape Land Contour  ... 3Ssn Porch Screen Porch Pool Area Pool QC  \\\n",
       "0  Grvl       Reg          Lvl  ...          0            0         0     NaN   \n",
       "1   NaN       IR1          Lvl  ...          0            0         0     NaN   \n",
       "2   NaN       IR1          Lvl  ...          0            0         0     NaN   \n",
       "3   NaN       Reg          Lvl  ...          0            0         0     NaN   \n",
       "4   NaN       IR1          Lvl  ...          0          185         0     NaN   \n",
       "\n",
       "  Fence Misc Feature Misc Val Mo Sold  Yr Sold  Sale Type  \n",
       "0   NaN          NaN        0       4     2006        WD   \n",
       "1   NaN          NaN        0       8     2006        WD   \n",
       "2   NaN          NaN        0       9     2006        New  \n",
       "3   NaN          NaN        0       7     2007        WD   \n",
       "4   NaN          NaN        0       7     2009        WD   \n",
       "\n",
       "[5 rows x 80 columns]"
      ]
     },
     "execution_count": 14,
     "metadata": {},
     "output_type": "execute_result"
    }
   ],
   "source": [
    "test_df.head()"
   ]
  },
  {
   "cell_type": "code",
   "execution_count": 15,
   "metadata": {},
   "outputs": [],
   "source": [
    "test_df.columns = test_df.columns.str.lower().str.replace(' ', '_')"
   ]
  },
  {
   "cell_type": "code",
   "execution_count": 16,
   "metadata": {
    "scrolled": false
   },
   "outputs": [
    {
     "data": {
      "text/plain": [
       "lot_frontage      160\n",
       "alley             820\n",
       "mas_vnr_type        1\n",
       "mas_vnr_area        1\n",
       "bsmt_qual          25\n",
       "bsmt_cond          25\n",
       "bsmt_exposure      25\n",
       "bsmtfin_type_1     25\n",
       "bsmtfin_type_2     25\n",
       "electrical          1\n",
       "fireplace_qu      422\n",
       "garage_type        44\n",
       "garage_yr_blt      45\n",
       "garage_finish      45\n",
       "garage_qual        45\n",
       "garage_cond        45\n",
       "pool_qc           874\n",
       "fence             706\n",
       "misc_feature      837\n",
       "dtype: int64"
      ]
     },
     "execution_count": 16,
     "metadata": {},
     "output_type": "execute_result"
    }
   ],
   "source": [
    "test_df.isnull().sum()[test_df.isnull().sum() > 0]"
   ]
  },
  {
   "cell_type": "code",
   "execution_count": 17,
   "metadata": {},
   "outputs": [],
   "source": [
    "test_replacement_dict = {'alley' : {np.nan : 'none'},\n",
    "                         'lot_frontage': {np.nan : 0},\n",
    "                         'lot_shape' : {'Reg' : 4, 'IR1' : 3, 'IR2': 2, 'IR3': 1},\n",
    "                         'mas_vnr_type': {np.nan : 'none'},\n",
    "                         'mas_vnr_area': {np.nan : 0},\n",
    "                         'bsmt_qual': {'Ex': 5, 'Gd': 4, 'TA': 3, 'Fa': 2, 'Po': 1, np.nan: 0},\n",
    "                         'bsmt_cond': {'Ex': 5, 'Gd': 4, 'TA': 3, 'Fa': 2, 'Po': 1, np.nan: 0},\n",
    "                         'bsmt_exposure': {'Gd': 4, 'Av': 3, 'Mn': 2, 'No': 1, np.nan: 0},\n",
    "                         'bsmtfin_type_1': {'GLQ': 6, 'ALQ': 5, 'BLQ': 4, 'Rec': 3, 'LwQ': 2, 'Unf': 1, np.nan: 0},\n",
    "                         'bsmtfin_type_2': {'GLQ': 6, 'ALQ': 5, 'BLQ': 4, 'Rec': 3, 'LwQ': 2, 'Unf': 1, np.nan: 0},\n",
    "                         'exter_qual': {'Ex': 5, 'Gd': 4, 'TA': 3, 'Fa': 2, 'Po': 1},\n",
    "                         'exter_cond': {'Ex': 5, 'Gd': 4, 'TA': 3, 'Fa': 2, 'Po': 1},\n",
    "                         'heating_qc': {'Ex': 5, 'Gd': 4, 'TA': 3, 'Fa': 2, 'Po': 1},\n",
    "                         'electrical': {'SBrkr': 5, 'FuseA': 4, 'FuseF': 3, 'FuseP': 2, 'Mix': 1, np.nan: 0},\n",
    "                         'kitchen_qual': {'Ex': 5, 'Gd': 4, 'TA': 3, 'Fa': 2, 'Po': 1},\n",
    "                         'functional': {'Typ': 8, 'Min1': 7, 'Min2': 6, 'Mod': 5, 'Maj1': 4, 'Maj2': 3, 'Sev': 2, 'Sal': 1},\n",
    "                         'fireplace_qu': {'Ex': 5, 'Gd': 4, 'TA': 3, 'Fa': 2, 'Po': 1, np.nan: 0},\n",
    "                         'garage_type': {np.nan: 'none'},\n",
    "                         'garage_yr_blt': {np.nan: 0},\n",
    "                         'garage_finish': {'Fin': 3, 'RFn': 2, 'Unf': 1, np.nan: 0},\n",
    "                         'garage_qual': {'Ex': 5, 'Gd': 4, 'TA': 3, 'Fa': 2, 'Po': 1, np.nan: 0},\n",
    "                         'garage_cond': {'Ex': 5, 'Gd': 4, 'TA': 3, 'Fa': 2, 'Po': 1, np.nan: 0},\n",
    "                         'paved_drive': {'Y': 3, 'P': 2, 'N': 1},\n",
    "                         'pool_qc': {'Ex': 4, 'Gd': 3, 'TA': 2, 'Fa': 1, np.nan: 0},\n",
    "                         'fence': {'GdPrv': 4, 'MnPrv': 3, 'GdWo': 2, 'MnWw': 1, np.nan: 0},\n",
    "                         'misc_feature': {np.nan: 'none'}\n",
    "                        }\n",
    "\n",
    "test_df = test_df.replace(test_replacement_dict)\n",
    "\n",
    "\n",
    "\n",
    "test_df = pd.get_dummies(test_df, columns= ['ms_subclass', 'ms_zoning', 'street', 'alley', 'land_contour',\n",
    "                                 'utilities', 'lot_config', 'land_slope', 'neighborhood', 'condition_1',\n",
    "                                 'condition_2', 'bldg_type', 'house_style', 'roof_style', 'roof_matl',\n",
    "                                 'exterior_1st', 'exterior_2nd', 'mas_vnr_type', 'foundation',\n",
    "                                 'heating', 'central_air', 'garage_type', 'misc_feature'])\n",
    "\n",
    "test_df['sf_t'] = test_df['1st_flr_sf'] + test_df['2nd_flr_sf'] + test_df['total_bsmt_sf']\n",
    "test_df['evil_garage'] = test_df['garage_cars'] * test_df['garage_area']\n",
    "test_df['evil_baths'] = test_df['full_bath'] + (test_df['half_bath'] * .5)\n",
    "test_df['evil_fire'] = (test_df['fireplace_qu'] * test_df['fireplaces'])**2\n",
    "test_df['evil_air'] = (test_df['central_air_Y']* test_df['heating_qc'])**2 * test_df['evil_fire'] * test_df['electrical']\n",
    "test_df['evil_basement'] = test_df['bsmt_qual'] * test_df['total_bsmt_sf'] * test_df['bsmt_exposure']\n",
    "test_df['evil_mcfly'] = test_df['year_built'] * test_df['year_remod/add']\n",
    "test_df['evil_fieri'] = test_df['evil_fire'] * test_df['kitchen_qual'] * test_df['evil_garage']\n",
    "test_df['evil_petting_zoo'] = (test_df['exter_qual']* test_df['gr_liv_area'])* 305 #because Miami is the most evil city we could think of\n",
    "test_df['evil_fence'] = test_df['electrical'] * test_df['fence']\n",
    "test_df['evil_lot']= -1 * (test_df['lot_shape'])**2\n",
    "test_df['good_specs'] = -1* (test_df['mas_vnr_type_None'] * test_df['foundation_CBlock'] * test_df['garage_type_Detchd'])**2\n",
    "test_df['freakin_laser'] = test_df['evil_fieri']*test_df['evil_petting_zoo']*test_df['evil_mcfly']\n",
    "\n",
    "test_df = test_df.drop(columns = ['1st_flr_sf', '2nd_flr_sf', 'total_bsmt_sf', 'full_bath', 'half_bath'])"
   ]
  },
  {
   "cell_type": "markdown",
   "metadata": {},
   "source": [
    "Used the same technique for data cleaning, handling null values, feature engineering in the test set as I did in the training set.  \n",
    "\n",
    "Duplicated my cleaning process for the test data that I did for my train data.  There were a few different null columns in the test set that I had to impute, but same overall strategy was used."
   ]
  },
  {
   "cell_type": "markdown",
   "metadata": {},
   "source": [
    "## EDA"
   ]
  },
  {
   "cell_type": "markdown",
   "metadata": {},
   "source": [
    "First, we want to get a look at our distribution of our Sale Price."
   ]
  },
  {
   "cell_type": "code",
   "execution_count": 18,
   "metadata": {
    "scrolled": true
   },
   "outputs": [
    {
     "data": {
      "image/png": "[encoded data removed]",
      "text/plain": [
       "<Figure size 432x288 with 1 Axes>"
      ]
     },
     "metadata": {
      "needs_background": "light"
     },
     "output_type": "display_data"
    }
   ],
   "source": [
    "fig = plt.figure()\n",
    "ax = fig.add_subplot(1,1,1)\n",
    "ax.hist(df['saleprice'], bins = 7)\n",
    "plt.title('Sale Price Distribution')\n",
    "plt.xlabel('Sale Price')\n",
    "plt.ylabel('Number of houses')\n",
    "plt.show()"
   ]
  },
  {
   "cell_type": "code",
   "execution_count": 19,
   "metadata": {},
   "outputs": [
    {
     "data": {
      "image/png": "[encoded data removed]",
      "text/plain": [
       "<Figure size 432x288 with 1 Axes>"
      ]
     },
     "metadata": {
      "needs_background": "light"
     },
     "output_type": "display_data"
    }
   ],
   "source": [
    "fig = plt.figure()\n",
    "ax = fig.add_subplot(1,1,1)\n",
    "ax.hist(np.log(df['saleprice']), bins = 7)\n",
    "plt.title('Sale Price Distribution')\n",
    "plt.xlabel('Sale Price')\n",
    "plt.ylabel('Number of houses')\n",
    "plt.show()"
   ]
  },
  {
   "cell_type": "markdown",
   "metadata": {},
   "source": [
    "The data is right skewed, so we definitely have some outliers with a high Sale Price.  The log Sale Price is skewed as well (to the left, this time), so I want to further investigate the outliers on the actual Sale Price and not use the log."
   ]
  },
  {
   "cell_type": "code",
   "execution_count": 20,
   "metadata": {
    "scrolled": true
   },
   "outputs": [
    {
     "data": {
      "image/png": "[encoded data removed]",
      "text/plain": [
       "<Figure size 432x288 with 1 Axes>"
      ]
     },
     "metadata": {
      "needs_background": "light"
     },
     "output_type": "display_data"
    }
   ],
   "source": [
    "fig = plt.figure()\n",
    "ax = fig.add_subplot(1,1,1)\n",
    "ax.boxplot(df['saleprice'])\n",
    "plt.title('Sale Price Distribution')\n",
    "plt.ylabel('Sale Price')\n",
    "plt.show()"
   ]
  },
  {
   "cell_type": "markdown",
   "metadata": {},
   "source": [
    "This is definitely eye-opening.  It is worth noting that we made the decision not to delete any rows of data during cleaning, so naturally we see a lot of outliers, but they are highly conglomerated beyond our fourth quartile, which further explains the right skew of the Sale Price distribution graph.  The outlier range is significantly larger than our IQR.  This affirms my decision not to remove outliers because any model without these outliers would likely severely underpredict true values that are larger than 350,000 USD.  While our model might underpredict high Sale Price because of these outliers, the model would be far more inaccurate if the outliers were not included."
   ]
  },
  {
   "cell_type": "code",
   "execution_count": 21,
   "metadata": {},
   "outputs": [
    {
     "data": {
      "text/plain": [
       "181469.70160897123"
      ]
     },
     "execution_count": 21,
     "metadata": {},
     "output_type": "execute_result"
    }
   ],
   "source": [
    "df['saleprice'].mean()"
   ]
  },
  {
   "cell_type": "markdown",
   "metadata": {},
   "source": [
    "Now that we better understand the distribution of our target variable, I want to dig into the linear relationship of features vs. the Sale Price."
   ]
  },
  {
   "cell_type": "code",
   "execution_count": 22,
   "metadata": {},
   "outputs": [
    {
     "data": {
      "text/plain": [
       "mas_vnr_type_None      -0.424088\n",
       "garage_type_Detchd     -0.370344\n",
       "foundation_CBlock      -0.355535\n",
       "lot_shape              -0.294542\n",
       "ms_zoning_RM           -0.281951\n",
       "central_air_N          -0.277378\n",
       "pid                    -0.255052\n",
       "roof_style_Gable       -0.249329\n",
       "ms_subclass_30         -0.248534\n",
       "garage_type_none       -0.230990\n",
       "foundation_BrkTil      -0.229891\n",
       "neighborhood_OldTown   -0.208371\n",
       "house_style_1.5Fin     -0.195803\n",
       "exterior_1st_Wd Sdng   -0.191734\n",
       "neighborhood_NAmes     -0.189387\n",
       "neighborhood_IDOTRR    -0.189237\n",
       "ms_subclass_50         -0.182336\n",
       "neighborhood_Edwards   -0.176119\n",
       "exterior_2nd_Wd Sdng   -0.172971\n",
       "alley_Grvl             -0.159109\n",
       "Name: saleprice, dtype: float64"
      ]
     },
     "execution_count": 22,
     "metadata": {},
     "output_type": "execute_result"
    }
   ],
   "source": [
    "df.corr()['saleprice'].sort_values().head(20)"
   ]
  },
  {
   "cell_type": "code",
   "execution_count": 23,
   "metadata": {},
   "outputs": [
    {
     "data": {
      "text/plain": [
       "saleprice           1.000000\n",
       "evil_petting_zoo    0.817933\n",
       "overall_qual        0.800207\n",
       "sf_t                0.783108\n",
       "exter_qual          0.712146\n",
       "gr_liv_area         0.697038\n",
       "kitchen_qual        0.692336\n",
       "evil_garage         0.690596\n",
       "garage_area         0.649897\n",
       "garage_cars         0.647781\n",
       "evil_basement       0.640438\n",
       "evil_mcfly          0.622283\n",
       "bsmt_qual           0.612188\n",
       "evil_baths          0.574487\n",
       "year_built          0.571849\n",
       "evil_fieri          0.570289\n",
       "garage_finish       0.557839\n",
       "year_remod/add      0.550370\n",
       "fireplace_qu        0.538925\n",
       "foundation_PConc    0.529047\n",
       "Name: saleprice, dtype: float64"
      ]
     },
     "execution_count": 23,
     "metadata": {},
     "output_type": "execute_result"
    }
   ],
   "source": [
    "(df.corr()['saleprice'].sort_values(ascending = False).head(20))"
   ]
  },
  {
   "cell_type": "markdown",
   "metadata": {},
   "source": [
    "These two commands show me which features correlate most with linearity, both positive and negative."
   ]
  },
  {
   "cell_type": "markdown",
   "metadata": {},
   "source": [
    "We find that Overall Quality is the highest correlated non-engineered feature with Sale Price and Evil Petting Zoo is our highest correlated feature.  I want to investigate that further.  Given that the value was assigned via scale, this will be easier to visualize in a boxplot and scatterplot.\n",
    "It's also interesting to note that a lot of the engineered features have strong positive correlations relative to other features."
   ]
  },
  {
   "cell_type": "code",
   "execution_count": 24,
   "metadata": {
    "scrolled": false
   },
   "outputs": [
    {
     "data": {
      "image/png": "[encoded data removed]",
      "text/plain": [
       "<Figure size 432x432 with 1 Axes>"
      ]
     },
     "metadata": {
      "needs_background": "light"
     },
     "output_type": "display_data"
    },
    {
     "data": {
      "image/png": "[encoded data removed]",
      "text/plain": [
       "<Figure size 432x432 with 1 Axes>"
      ]
     },
     "metadata": {
      "needs_background": "light"
     },
     "output_type": "display_data"
    }
   ],
   "source": [
    "size_var = 18\n",
    "\n",
    "plt.figure(figsize=(6,6)) # (width, height)\n",
    "plt.title(\"Average Sale Price based on Overal House Quality\", fontsize = size_var, pad = size_var / 2)\n",
    "\n",
    "sns.scatterplot(x = df[\"overall_qual\"], y = df[\"saleprice\"], palette = [\"yellow\"]);\n",
    "\n",
    "plt.xlabel(\"Overall House Quality\", fontsize = size_var, labelpad = size_var/2)\n",
    "plt.xticks(fontsize=size_var/2, rotation=45)\n",
    "\n",
    "plt.ylabel(\"Sale Price\", fontsize = size_var, labelpad = size_var/2)\n",
    "plt.yticks(fontsize=size_var/2, rotation=90);\n",
    "\n",
    "size_var = 18\n",
    "\n",
    "plt.figure(figsize=(6,6)) # (width, height)\n",
    "plt.title(\"Average Sale Price based on Overal House Quality\", fontsize = size_var, pad = size_var / 2)\n",
    "\n",
    "sns.boxplot(x = df[\"overall_qual\"], y = df[\"saleprice\"], palette = [\"yellow\"]);\n",
    "\n",
    "plt.xlabel(\"Overall House Quality\", fontsize = size_var, labelpad = size_var/2)\n",
    "plt.xticks(fontsize=size_var/2, rotation=45)\n",
    "\n",
    "plt.ylabel(\"Sale Price\", fontsize = size_var, labelpad = size_var/2)\n",
    "plt.yticks(fontsize=size_var/2, rotation=90);"
   ]
  },
  {
   "cell_type": "markdown",
   "metadata": {},
   "source": [
    "We can clearly see the strong linear relationship between Overall Quality and Sale Price, as our max values and 3rd quartile for Sale Price take on higher values as Overall Quality increases.  This is interesting to note because while quality is subjective to human interpretation since it was collected via an assigned score of 1-10 given by a human, it ends up because our strongest feature.\n",
    "\n",
    "Sale price has a right skew, with the data peaking around the mean.  While it looked like a fairly normal distribution, the boxplot better shows the significance the outliers will have on any model.  Clearly there are a lot of Sales Price outliers based on Overall Quality, and we would still want to predict those values with our model, which confirms our decision to keep outliers in our training set.  Eliminating these outliers would likely hurt our ability to predict Sale Price.\n",
    "\n",
    "I now want to take a further look at my strongest engineered feature."
   ]
  },
  {
   "cell_type": "code",
   "execution_count": 25,
   "metadata": {
    "scrolled": true
   },
   "outputs": [
    {
     "data": {
      "image/png": "[encoded data removed]",
      "text/plain": [
       "<Figure size 432x288 with 1 Axes>"
      ]
     },
     "metadata": {
      "needs_background": "light"
     },
     "output_type": "display_data"
    }
   ],
   "source": [
    "fig = plt.figure()\n",
    "ax = fig.add_subplot(1,1,1)\n",
    "sns.scatterplot(df['evil_petting_zoo'], df['saleprice'])\n",
    "plt.show;"
   ]
  },
  {
   "cell_type": "markdown",
   "metadata": {},
   "source": [
    "My highest corrleation of engineered features was the Evil Petting Zoo which interracts the subjective quality features of both the interior and exterior areas (and then Miamified for fun).  We can see on the plot that there is definitely a linear relationship between our engineered feature and Sale Price, with .82 correlation coefficient, indicating a strong, positive linear correlation.  I want to further investigate the two outlier points, though\n"
   ]
  },
  {
   "cell_type": "code",
   "execution_count": 26,
   "metadata": {},
   "outputs": [
    {
     "data": {
      "text/html": [
       "<div>\n",
       "<style scoped>\n",
       "    .dataframe tbody tr th:only-of-type {\n",
       "        vertical-align: middle;\n",
       "    }\n",
       "\n",
       "    .dataframe tbody tr th {\n",
       "        vertical-align: top;\n",
       "    }\n",
       "\n",
       "    .dataframe thead th {\n",
       "        text-align: right;\n",
       "    }\n",
       "</style>\n",
       "<table border=\"1\" class=\"dataframe\">\n",
       "  <thead>\n",
       "    <tr style=\"text-align: right;\">\n",
       "      <th></th>\n",
       "      <th>saleprice</th>\n",
       "      <th>evil_petting_zoo</th>\n",
       "    </tr>\n",
       "  </thead>\n",
       "  <tbody>\n",
       "    <tr>\n",
       "      <th>960</th>\n",
       "      <td>160000</td>\n",
       "      <td>8604050</td>\n",
       "    </tr>\n",
       "    <tr>\n",
       "      <th>1885</th>\n",
       "      <td>183850</td>\n",
       "      <td>7769875</td>\n",
       "    </tr>\n",
       "  </tbody>\n",
       "</table>\n",
       "</div>"
      ],
      "text/plain": [
       "      saleprice  evil_petting_zoo\n",
       "960      160000           8604050\n",
       "1885     183850           7769875"
      ]
     },
     "execution_count": 26,
     "metadata": {},
     "output_type": "execute_result"
    }
   ],
   "source": [
    "df.loc[df['evil_petting_zoo'] > 6000000, ['saleprice', 'evil_petting_zoo']]"
   ]
  },
  {
   "cell_type": "markdown",
   "metadata": {},
   "source": [
    "These two rows have the largest amount of \"Evil Petting Zoo,\" but despite the positive linear correlation of the variable, we find that these two points should have much higher Sale Price values.  I tried running a separate model with these outliers dropped, and actually found that the predictive ability of my Linear Model was more accurate with the outliers left in, so I'm keeping them in."
   ]
  },
  {
   "cell_type": "markdown",
   "metadata": {},
   "source": [
    "With a better understanding on some of the features that will likely influence my model, I want to start building a model and further evaluate features that can improve its predictive power."
   ]
  },
  {
   "cell_type": "markdown",
   "metadata": {},
   "source": [
    "## Model Preparation"
   ]
  },
  {
   "cell_type": "code",
   "execution_count": 27,
   "metadata": {},
   "outputs": [],
   "source": [
    "# drops y, numerical features that don't explain y, and sale type \n",
    "X = df.drop(columns = ['saleprice', 'pid', 'id', 'sale_type'])\n",
    "y = df[\"saleprice\"]\n",
    "X_train, X_test, y_train, y_test = train_test_split(X, y, random_state = RANDOM_STATE)"
   ]
  },
  {
   "cell_type": "markdown",
   "metadata": {},
   "source": [
    "Since RMSE is the metric we'll use to measure success, I want to use a function to help automate that step.  We are choosing RMSE because it measures in the same unit as our y value (USD).  RMSE can be easily interpreted as the average error in dollar amount, which tells us the most when predicting prices."
   ]
  },
  {
   "cell_type": "code",
   "execution_count": 28,
   "metadata": {},
   "outputs": [],
   "source": [
    "def rmse(y_true, y_pred): # Mahdi's RMSE calculator\n",
    "    '''Returns the root mean squared error'''\n",
    "    return np.sqrt(mean_squared_error(y_true, y_pred))\n"
   ]
  },
  {
   "cell_type": "markdown",
   "metadata": {},
   "source": [
    "## Modeling"
   ]
  },
  {
   "cell_type": "markdown",
   "metadata": {},
   "source": [
    "### Baseline Model"
   ]
  },
  {
   "cell_type": "code",
   "execution_count": 29,
   "metadata": {},
   "outputs": [],
   "source": [
    "base_preds = [y_train.mean() for _ in y_train]"
   ]
  },
  {
   "cell_type": "code",
   "execution_count": 30,
   "metadata": {},
   "outputs": [
    {
     "data": {
      "text/plain": [
       "182635.06046814044"
      ]
     },
     "execution_count": 30,
     "metadata": {},
     "output_type": "execute_result"
    }
   ],
   "source": [
    "y_train.mean() "
   ]
  },
  {
   "cell_type": "markdown",
   "metadata": {},
   "source": [
    "Baseline model is equivalent to guessing the mean every single time."
   ]
  },
  {
   "cell_type": "code",
   "execution_count": 31,
   "metadata": {},
   "outputs": [
    {
     "data": {
      "text/plain": [
       "79841.53874104604"
      ]
     },
     "execution_count": 31,
     "metadata": {},
     "output_type": "execute_result"
    }
   ],
   "source": [
    "base_rmse = rmse(y_train, base_preds)\n",
    "base_rmse"
   ]
  },
  {
   "cell_type": "markdown",
   "metadata": {},
   "source": [
    "Baseline model is well outside of 50,000 USD target range.  Since we are predicting a target using regression, I will start by building a Linear Model."
   ]
  },
  {
   "cell_type": "markdown",
   "metadata": {},
   "source": [
    "### Linear Regression"
   ]
  },
  {
   "cell_type": "code",
   "execution_count": 32,
   "metadata": {},
   "outputs": [
    {
     "data": {
      "text/plain": [
       "LinearRegression(copy_X=True, fit_intercept=True, n_jobs=None, normalize=False)"
      ]
     },
     "execution_count": 32,
     "metadata": {},
     "output_type": "execute_result"
    }
   ],
   "source": [
    "# instantiate\n",
    "lr = LinearRegression()\n",
    "\n",
    "# fit\n",
    "lr.fit(X_train, y_train)"
   ]
  },
  {
   "cell_type": "code",
   "execution_count": 33,
   "metadata": {},
   "outputs": [],
   "source": [
    "y_train_preds = lr.predict(X_train) #generate training predictions"
   ]
  },
  {
   "cell_type": "code",
   "execution_count": 34,
   "metadata": {},
   "outputs": [],
   "source": [
    "y_test_preds = lr.predict(X_test) #generate test predictions"
   ]
  },
  {
   "cell_type": "code",
   "execution_count": 35,
   "metadata": {},
   "outputs": [
    {
     "data": {
      "text/plain": [
       "31191.54084922374"
      ]
     },
     "execution_count": 35,
     "metadata": {},
     "output_type": "execute_result"
    }
   ],
   "source": [
    "lr_train_rmse = rmse(y_train, y_train_preds)\n",
    "lr_train_rmse"
   ]
  },
  {
   "cell_type": "code",
   "execution_count": 36,
   "metadata": {},
   "outputs": [
    {
     "data": {
      "text/plain": [
       "27776.93691880493"
      ]
     },
     "execution_count": 36,
     "metadata": {},
     "output_type": "execute_result"
    }
   ],
   "source": [
    "lr_test_rmse = rmse(y_test, y_test_preds)\n",
    "lr_test_rmse"
   ]
  },
  {
   "cell_type": "code",
   "execution_count": 37,
   "metadata": {},
   "outputs": [
    {
     "data": {
      "text/plain": [
       "30543.34031554545"
      ]
     },
     "execution_count": 37,
     "metadata": {},
     "output_type": "execute_result"
    }
   ],
   "source": [
    "lr_cv = cross_val_score(lr, X, y, cv = 5, scoring = make_scorer(rmse)).mean() # From Mahdi's FAQ\n",
    "lr_cv"
   ]
  },
  {
   "cell_type": "markdown",
   "metadata": {},
   "source": [
    "The Linear Regression model is an improvement from the Baseline Model, based on a significant decrease in RMSE.  A higher cross-validation RMSE compared to our test RMSE signifies that the model may not perform as well against new data as we might originally think.  My next inclination is to try a Ridge Regression Model and also a Lasso Regression Model afterwards to further evaluate which features are and aren't meaningfully contributing to our model's predictions.\n"
   ]
  },
  {
   "cell_type": "markdown",
   "metadata": {},
   "source": [
    "### Ridge"
   ]
  },
  {
   "cell_type": "markdown",
   "metadata": {},
   "source": [
    "Since our model deals with both dummies and non-dummies as numerical features, I need to scale my data appropriately."
   ]
  },
  {
   "cell_type": "code",
   "execution_count": 38,
   "metadata": {},
   "outputs": [],
   "source": [
    "ss = StandardScaler()\n",
    "# Scale data for Ridge and Lasso models\n",
    "ss.fit(X_train)\n",
    "\n",
    "Z_train = ss.transform(X_train)\n",
    "Z_test = ss.transform(X_test)"
   ]
  },
  {
   "cell_type": "code",
   "execution_count": 39,
   "metadata": {},
   "outputs": [
    {
     "data": {
      "text/plain": [
       "Ridge(alpha=932.6033468832219, copy_X=True, fit_intercept=True, max_iter=None,\n",
       "      normalize=False, random_state=None, solver='auto', tol=0.001)"
      ]
     },
     "execution_count": 39,
     "metadata": {},
     "output_type": "execute_result"
    }
   ],
   "source": [
    "# Instantiate.\n",
    "ridge_model = RidgeCV(alphas=np.logspace(-6, 6, 100))\n",
    "\n",
    "# Fit.\n",
    "ridge_model.fit(Z_train, y_train)\n",
    "\n",
    "#find best alpha value in logspace range\n",
    "ridge_model.alpha_\n",
    "\n",
    "# Re-instantiate with best alpha value\n",
    "ridge_model = Ridge(alpha=ridge_model.alpha_)\n",
    "\n",
    "# Re-fit with best alpha value\n",
    "ridge_model.fit(Z_train, y_train)\n"
   ]
  },
  {
   "cell_type": "code",
   "execution_count": 40,
   "metadata": {},
   "outputs": [],
   "source": [
    "Z_train_preds = ridge_model.predict(Z_train)"
   ]
  },
  {
   "cell_type": "code",
   "execution_count": 41,
   "metadata": {},
   "outputs": [],
   "source": [
    "Z_test_preds = ridge_model.predict(Z_test)"
   ]
  },
  {
   "cell_type": "code",
   "execution_count": 42,
   "metadata": {},
   "outputs": [
    {
     "data": {
      "text/plain": [
       "24129.729659814122"
      ]
     },
     "execution_count": 42,
     "metadata": {},
     "output_type": "execute_result"
    }
   ],
   "source": [
    "ridge_train_rmse = rmse(y_train, Z_train_preds)\n",
    "ridge_train_rmse"
   ]
  },
  {
   "cell_type": "code",
   "execution_count": 43,
   "metadata": {},
   "outputs": [
    {
     "data": {
      "text/plain": [
       "23179.839237623175"
      ]
     },
     "execution_count": 43,
     "metadata": {},
     "output_type": "execute_result"
    }
   ],
   "source": [
    "ridge_test_rmse = rmse(y_test, Z_test_preds)\n",
    "ridge_test_rmse"
   ]
  },
  {
   "cell_type": "code",
   "execution_count": 44,
   "metadata": {},
   "outputs": [
    {
     "data": {
      "text/plain": [
       "26840.46591180002"
      ]
     },
     "execution_count": 44,
     "metadata": {},
     "output_type": "execute_result"
    }
   ],
   "source": [
    "ridge_model_cv = cross_val_score(ridge_model, X, y, cv = 5, scoring = make_scorer(rmse)).mean() # From Mahdi's FAQ\n",
    "ridge_model_cv"
   ]
  },
  {
   "cell_type": "markdown",
   "metadata": {},
   "source": [
    "The Ridge Model is a more significant improvement from the Baseline Model than the Linear Model based on a greater decrease in training and testing RMSE.  We are still seeing a higher cross validation score than testing score, so this model also may not perform as well against new data as we might originally think.   While this is helpful and definitely an improvement over the original Linear Model, I want to see if the Lasso Model scores better, so I can decide which coefficients to further investigate."
   ]
  },
  {
   "cell_type": "markdown",
   "metadata": {},
   "source": [
    "### Lasso"
   ]
  },
  {
   "cell_type": "code",
   "execution_count": 45,
   "metadata": {},
   "outputs": [
    {
     "data": {
      "text/plain": [
       "Lasso(alpha=932.6033468832219, copy_X=True, fit_intercept=True, max_iter=1000,\n",
       "      normalize=False, positive=False, precompute=False, random_state=None,\n",
       "      selection='cyclic', tol=0.0001, warm_start=False)"
      ]
     },
     "execution_count": 45,
     "metadata": {},
     "output_type": "execute_result"
    }
   ],
   "source": [
    "# Instantiate.\n",
    "lasso_model = LassoCV(alphas=np.logspace(-6, 6, 100))\n",
    "\n",
    "# Fit.\n",
    "lasso_model.fit(Z_train, y_train)\n",
    "\n",
    "# will automatically find my best alpha\n",
    "lasso_model.alpha_\n",
    "\n",
    "# Re-instantiate with best alpha value\n",
    "lasso_model = Lasso(alpha=lasso_model.alpha_)\n",
    "\n",
    "# Re-fit with best alpha value\n",
    "lasso_model.fit(Z_train, y_train)\n"
   ]
  },
  {
   "cell_type": "code",
   "execution_count": 46,
   "metadata": {
    "scrolled": true
   },
   "outputs": [
    {
     "name": "stdout",
     "output_type": "stream",
     "text": [
      "21422.05232794101\n",
      "21016.71558642051\n"
     ]
    }
   ],
   "source": [
    "Z_train_preds_l = lasso_model.predict(Z_train)\n",
    "\n",
    "Z_test_preds_l = lasso_model.predict(Z_test)\n",
    "\n",
    "print(mean_squared_error(y_true = y_train, y_pred=Z_train_preds_l)**0.5)\n",
    "\n",
    "print(mean_squared_error(y_true = y_test, y_pred=Z_test_preds_l)**0.5)"
   ]
  },
  {
   "cell_type": "code",
   "execution_count": 47,
   "metadata": {},
   "outputs": [
    {
     "data": {
      "text/plain": [
       "21422.05232794101"
      ]
     },
     "execution_count": 47,
     "metadata": {},
     "output_type": "execute_result"
    }
   ],
   "source": [
    "lasso_train_rmse = rmse(y_train, Z_train_preds_l)\n",
    "lasso_train_rmse"
   ]
  },
  {
   "cell_type": "code",
   "execution_count": 48,
   "metadata": {},
   "outputs": [
    {
     "data": {
      "text/plain": [
       "21016.71558642051"
      ]
     },
     "execution_count": 48,
     "metadata": {},
     "output_type": "execute_result"
    }
   ],
   "source": [
    "lasso_test_rmse = rmse(y_test, Z_test_preds_l)\n",
    "lasso_test_rmse"
   ]
  },
  {
   "cell_type": "code",
   "execution_count": 49,
   "metadata": {
    "scrolled": true
   },
   "outputs": [
    {
     "data": {
      "text/plain": [
       "27042.199968547786"
      ]
     },
     "execution_count": 49,
     "metadata": {},
     "output_type": "execute_result"
    }
   ],
   "source": [
    "lasso_model_cv = cross_val_score(lasso_model, X, y, cv = 5, scoring = make_scorer(rmse)).mean() # From Mahdi's FAQ\n",
    "lasso_model_cv"
   ]
  },
  {
   "cell_type": "markdown",
   "metadata": {},
   "source": [
    "The Lasso Model is still a significant improvement from the Baseline Model than the Linear Model based on a greater decrease in training and testing RMSE.  While the Ridge Model had a better cross validation score than the Lasso Model, I'm inclined to say that the lower training and testing RMSE for the Lasso Model is my preferred choice over the Ridge Model.  I'm going to further investigate the coefficients of the Lasso Model and identify which features should be removed before attempting another Linear Regression."
   ]
  },
  {
   "cell_type": "code",
   "execution_count": 50,
   "metadata": {},
   "outputs": [
    {
     "data": {
      "text/html": [
       "<div>\n",
       "<style scoped>\n",
       "    .dataframe tbody tr th:only-of-type {\n",
       "        vertical-align: middle;\n",
       "    }\n",
       "\n",
       "    .dataframe tbody tr th {\n",
       "        vertical-align: top;\n",
       "    }\n",
       "\n",
       "    .dataframe thead th {\n",
       "        text-align: right;\n",
       "    }\n",
       "</style>\n",
       "<table border=\"1\" class=\"dataframe\">\n",
       "  <thead>\n",
       "    <tr style=\"text-align: right;\">\n",
       "      <th></th>\n",
       "      <th>col_name</th>\n",
       "      <th>coef</th>\n",
       "      <th>abs</th>\n",
       "    </tr>\n",
       "  </thead>\n",
       "  <tbody>\n",
       "    <tr>\n",
       "      <th>231</th>\n",
       "      <td>evil_petting_zoo</td>\n",
       "      <td>28811.177578</td>\n",
       "      <td>28811.177578</td>\n",
       "    </tr>\n",
       "    <tr>\n",
       "      <th>228</th>\n",
       "      <td>evil_basement</td>\n",
       "      <td>10515.778140</td>\n",
       "      <td>10515.778140</td>\n",
       "    </tr>\n",
       "    <tr>\n",
       "      <th>3</th>\n",
       "      <td>overall_qual</td>\n",
       "      <td>10472.978712</td>\n",
       "      <td>10472.978712</td>\n",
       "    </tr>\n",
       "    <tr>\n",
       "      <th>14</th>\n",
       "      <td>bsmtfin_sf_1</td>\n",
       "      <td>7475.319511</td>\n",
       "      <td>7475.319511</td>\n",
       "    </tr>\n",
       "    <tr>\n",
       "      <th>223</th>\n",
       "      <td>sf_t</td>\n",
       "      <td>7216.740863</td>\n",
       "      <td>7216.740863</td>\n",
       "    </tr>\n",
       "    <tr>\n",
       "      <th>117</th>\n",
       "      <td>neighborhood_StoneBr</td>\n",
       "      <td>5916.910222</td>\n",
       "      <td>5916.910222</td>\n",
       "    </tr>\n",
       "    <tr>\n",
       "      <th>229</th>\n",
       "      <td>evil_mcfly</td>\n",
       "      <td>5732.971551</td>\n",
       "      <td>5732.971551</td>\n",
       "    </tr>\n",
       "    <tr>\n",
       "      <th>111</th>\n",
       "      <td>neighborhood_NridgHt</td>\n",
       "      <td>5339.854955</td>\n",
       "      <td>5339.854955</td>\n",
       "    </tr>\n",
       "    <tr>\n",
       "      <th>224</th>\n",
       "      <td>evil_garage</td>\n",
       "      <td>4985.347003</td>\n",
       "      <td>4985.347003</td>\n",
       "    </tr>\n",
       "    <tr>\n",
       "      <th>230</th>\n",
       "      <td>evil_fieri</td>\n",
       "      <td>4553.279981</td>\n",
       "      <td>4553.279981</td>\n",
       "    </tr>\n",
       "  </tbody>\n",
       "</table>\n",
       "</div>"
      ],
      "text/plain": [
       "                 col_name          coef           abs\n",
       "231      evil_petting_zoo  28811.177578  28811.177578\n",
       "228         evil_basement  10515.778140  10515.778140\n",
       "3            overall_qual  10472.978712  10472.978712\n",
       "14           bsmtfin_sf_1   7475.319511   7475.319511\n",
       "223                  sf_t   7216.740863   7216.740863\n",
       "117  neighborhood_StoneBr   5916.910222   5916.910222\n",
       "229            evil_mcfly   5732.971551   5732.971551\n",
       "111  neighborhood_NridgHt   5339.854955   5339.854955\n",
       "224           evil_garage   4985.347003   4985.347003\n",
       "230            evil_fieri   4553.279981   4553.279981"
      ]
     },
     "execution_count": 50,
     "metadata": {},
     "output_type": "execute_result"
    }
   ],
   "source": [
    "coef_df_lasso = pd.DataFrame({'col_name': X.columns, 'coef': lasso_model.coef_,\n",
    "                       'abs': np.abs(lasso_model.coef_)})\n",
    "\n",
    "coef_df_lasso.sort_values('coef', ascending=False).head(10)\n"
   ]
  },
  {
   "cell_type": "markdown",
   "metadata": {},
   "source": [
    "This shows me the top 10 positive coefficients, indicating which features have the greatest positive affect on my model."
   ]
  },
  {
   "cell_type": "code",
   "execution_count": 51,
   "metadata": {},
   "outputs": [
    {
     "data": {
      "text/html": [
       "<div>\n",
       "<style scoped>\n",
       "    .dataframe tbody tr th:only-of-type {\n",
       "        vertical-align: middle;\n",
       "    }\n",
       "\n",
       "    .dataframe tbody tr th {\n",
       "        vertical-align: top;\n",
       "    }\n",
       "\n",
       "    .dataframe thead th {\n",
       "        text-align: right;\n",
       "    }\n",
       "</style>\n",
       "<table border=\"1\" class=\"dataframe\">\n",
       "  <thead>\n",
       "    <tr style=\"text-align: right;\">\n",
       "      <th></th>\n",
       "      <th>col_name</th>\n",
       "      <th>coef</th>\n",
       "      <th>abs</th>\n",
       "    </tr>\n",
       "  </thead>\n",
       "  <tbody>\n",
       "    <tr>\n",
       "      <th>87</th>\n",
       "      <td>lot_config_FR3</td>\n",
       "      <td>-351.918884</td>\n",
       "      <td>351.918884</td>\n",
       "    </tr>\n",
       "    <tr>\n",
       "      <th>125</th>\n",
       "      <td>condition_1_RRAe</td>\n",
       "      <td>-376.912594</td>\n",
       "      <td>376.912594</td>\n",
       "    </tr>\n",
       "    <tr>\n",
       "      <th>164</th>\n",
       "      <td>exterior_1st_BrkComm</td>\n",
       "      <td>-390.361992</td>\n",
       "      <td>390.361992</td>\n",
       "    </tr>\n",
       "    <tr>\n",
       "      <th>115</th>\n",
       "      <td>neighborhood_SawyerW</td>\n",
       "      <td>-498.209569</td>\n",
       "      <td>498.209569</td>\n",
       "    </tr>\n",
       "    <tr>\n",
       "      <th>71</th>\n",
       "      <td>ms_zoning_RM</td>\n",
       "      <td>-838.289984</td>\n",
       "      <td>838.289984</td>\n",
       "    </tr>\n",
       "    <tr>\n",
       "      <th>120</th>\n",
       "      <td>condition_1_Artery</td>\n",
       "      <td>-899.895149</td>\n",
       "      <td>899.895149</td>\n",
       "    </tr>\n",
       "    <tr>\n",
       "      <th>183</th>\n",
       "      <td>exterior_2nd_HdBoard</td>\n",
       "      <td>-938.978910</td>\n",
       "      <td>938.978910</td>\n",
       "    </tr>\n",
       "    <tr>\n",
       "      <th>154</th>\n",
       "      <td>roof_style_Mansard</td>\n",
       "      <td>-2357.209648</td>\n",
       "      <td>2357.209648</td>\n",
       "    </tr>\n",
       "    <tr>\n",
       "      <th>217</th>\n",
       "      <td>misc_feature_Elev</td>\n",
       "      <td>-14813.219610</td>\n",
       "      <td>14813.219610</td>\n",
       "    </tr>\n",
       "    <tr>\n",
       "      <th>156</th>\n",
       "      <td>roof_matl_ClyTile</td>\n",
       "      <td>-18825.989815</td>\n",
       "      <td>18825.989815</td>\n",
       "    </tr>\n",
       "  </tbody>\n",
       "</table>\n",
       "</div>"
      ],
      "text/plain": [
       "                 col_name          coef           abs\n",
       "87         lot_config_FR3   -351.918884    351.918884\n",
       "125      condition_1_RRAe   -376.912594    376.912594\n",
       "164  exterior_1st_BrkComm   -390.361992    390.361992\n",
       "115  neighborhood_SawyerW   -498.209569    498.209569\n",
       "71           ms_zoning_RM   -838.289984    838.289984\n",
       "120    condition_1_Artery   -899.895149    899.895149\n",
       "183  exterior_2nd_HdBoard   -938.978910    938.978910\n",
       "154    roof_style_Mansard  -2357.209648   2357.209648\n",
       "217     misc_feature_Elev -14813.219610  14813.219610\n",
       "156     roof_matl_ClyTile -18825.989815  18825.989815"
      ]
     },
     "execution_count": 51,
     "metadata": {},
     "output_type": "execute_result"
    }
   ],
   "source": [
    "coef_df_lasso.sort_values('coef', ascending=False).tail(10)"
   ]
  },
  {
   "cell_type": "markdown",
   "metadata": {},
   "source": [
    "This shows me the top 10 negative coefficients, indicating which features have the greatest negative affect on my model.\n",
    "The absolute value calculations are to showcase the magnitude because negative coefficients have the exact same magnitude as positive coefficients, but rather showcase features that would determine a decrease in our y (Sale Price). \n"
   ]
  },
  {
   "cell_type": "markdown",
   "metadata": {},
   "source": [
    "### Improved Linear Regression By Eliminating Zero Coefficients"
   ]
  },
  {
   "cell_type": "markdown",
   "metadata": {},
   "source": [
    "Our Lasso Model revealed a lot of coeficients of 0, meaning that we had a lot of features that were identified as not having an impact at all.  These same features were likely throwing off the predictive ability of our original Linear Model.  I want to run a Linear Model again, but this time without the \"disruptive\" features."
   ]
  },
  {
   "cell_type": "code",
   "execution_count": 52,
   "metadata": {},
   "outputs": [
    {
     "data": {
      "text/html": [
       "<div>\n",
       "<style scoped>\n",
       "    .dataframe tbody tr th:only-of-type {\n",
       "        vertical-align: middle;\n",
       "    }\n",
       "\n",
       "    .dataframe tbody tr th {\n",
       "        vertical-align: top;\n",
       "    }\n",
       "\n",
       "    .dataframe thead th {\n",
       "        text-align: right;\n",
       "    }\n",
       "</style>\n",
       "<table border=\"1\" class=\"dataframe\">\n",
       "  <thead>\n",
       "    <tr style=\"text-align: right;\">\n",
       "      <th></th>\n",
       "      <th>col_name</th>\n",
       "      <th>coef</th>\n",
       "      <th>abs</th>\n",
       "    </tr>\n",
       "  </thead>\n",
       "  <tbody>\n",
       "    <tr>\n",
       "      <th>0</th>\n",
       "      <td>lot_frontage</td>\n",
       "      <td>823.632380</td>\n",
       "      <td>823.632380</td>\n",
       "    </tr>\n",
       "    <tr>\n",
       "      <th>1</th>\n",
       "      <td>lot_area</td>\n",
       "      <td>3027.239792</td>\n",
       "      <td>3027.239792</td>\n",
       "    </tr>\n",
       "    <tr>\n",
       "      <th>3</th>\n",
       "      <td>overall_qual</td>\n",
       "      <td>10472.978712</td>\n",
       "      <td>10472.978712</td>\n",
       "    </tr>\n",
       "    <tr>\n",
       "      <th>4</th>\n",
       "      <td>overall_cond</td>\n",
       "      <td>3159.987564</td>\n",
       "      <td>3159.987564</td>\n",
       "    </tr>\n",
       "    <tr>\n",
       "      <th>5</th>\n",
       "      <td>year_built</td>\n",
       "      <td>1703.800448</td>\n",
       "      <td>1703.800448</td>\n",
       "    </tr>\n",
       "    <tr>\n",
       "      <th>...</th>\n",
       "      <td>...</td>\n",
       "      <td>...</td>\n",
       "      <td>...</td>\n",
       "    </tr>\n",
       "    <tr>\n",
       "      <th>225</th>\n",
       "      <td>evil_baths</td>\n",
       "      <td>327.188650</td>\n",
       "      <td>327.188650</td>\n",
       "    </tr>\n",
       "    <tr>\n",
       "      <th>228</th>\n",
       "      <td>evil_basement</td>\n",
       "      <td>10515.778140</td>\n",
       "      <td>10515.778140</td>\n",
       "    </tr>\n",
       "    <tr>\n",
       "      <th>229</th>\n",
       "      <td>evil_mcfly</td>\n",
       "      <td>5732.971551</td>\n",
       "      <td>5732.971551</td>\n",
       "    </tr>\n",
       "    <tr>\n",
       "      <th>230</th>\n",
       "      <td>evil_fieri</td>\n",
       "      <td>4553.279981</td>\n",
       "      <td>4553.279981</td>\n",
       "    </tr>\n",
       "    <tr>\n",
       "      <th>231</th>\n",
       "      <td>evil_petting_zoo</td>\n",
       "      <td>28811.177578</td>\n",
       "      <td>28811.177578</td>\n",
       "    </tr>\n",
       "  </tbody>\n",
       "</table>\n",
       "<p>66 rows × 3 columns</p>\n",
       "</div>"
      ],
      "text/plain": [
       "             col_name          coef           abs\n",
       "0        lot_frontage    823.632380    823.632380\n",
       "1            lot_area   3027.239792   3027.239792\n",
       "3        overall_qual  10472.978712  10472.978712\n",
       "4        overall_cond   3159.987564   3159.987564\n",
       "5          year_built   1703.800448   1703.800448\n",
       "..                ...           ...           ...\n",
       "225        evil_baths    327.188650    327.188650\n",
       "228     evil_basement  10515.778140  10515.778140\n",
       "229        evil_mcfly   5732.971551   5732.971551\n",
       "230        evil_fieri   4553.279981   4553.279981\n",
       "231  evil_petting_zoo  28811.177578  28811.177578\n",
       "\n",
       "[66 rows x 3 columns]"
      ]
     },
     "execution_count": 52,
     "metadata": {},
     "output_type": "execute_result"
    }
   ],
   "source": [
    "good_coefs = coef_df_lasso.loc[coef_df_lasso['coef'] != 0]\n",
    "good_coefs"
   ]
  },
  {
   "cell_type": "code",
   "execution_count": 53,
   "metadata": {},
   "outputs": [],
   "source": [
    "X = df[good_coefs['col_name'].values]\n",
    "y = df['saleprice']\n",
    "\n",
    "X_train, X_test, y_train, y_test = train_test_split(X, y, random_state = RANDOM_STATE)"
   ]
  },
  {
   "cell_type": "markdown",
   "metadata": {},
   "source": [
    "Changed my X to only contain the features identified by my Lasso Model and ran a train, test, split."
   ]
  },
  {
   "cell_type": "code",
   "execution_count": 54,
   "metadata": {},
   "outputs": [],
   "source": [
    "lr = LinearRegression() # instantiate"
   ]
  },
  {
   "cell_type": "code",
   "execution_count": 55,
   "metadata": {},
   "outputs": [
    {
     "data": {
      "text/plain": [
       "LinearRegression(copy_X=True, fit_intercept=True, n_jobs=None, normalize=False)"
      ]
     },
     "execution_count": 55,
     "metadata": {},
     "output_type": "execute_result"
    }
   ],
   "source": [
    "lr.fit(X_train, y_train) # fit"
   ]
  },
  {
   "cell_type": "code",
   "execution_count": 56,
   "metadata": {},
   "outputs": [],
   "source": [
    "train_preds = lr.predict(X_train)"
   ]
  },
  {
   "cell_type": "code",
   "execution_count": 57,
   "metadata": {},
   "outputs": [],
   "source": [
    "test_preds = lr.predict(X_test)"
   ]
  },
  {
   "cell_type": "code",
   "execution_count": 58,
   "metadata": {},
   "outputs": [
    {
     "data": {
      "text/plain": [
       "20577.430881443397"
      ]
     },
     "execution_count": 58,
     "metadata": {},
     "output_type": "execute_result"
    }
   ],
   "source": [
    "lr2_train_rmse = rmse(y_train, train_preds)\n",
    "lr2_train_rmse"
   ]
  },
  {
   "cell_type": "code",
   "execution_count": 59,
   "metadata": {},
   "outputs": [
    {
     "data": {
      "text/plain": [
       "21413.384879158173"
      ]
     },
     "execution_count": 59,
     "metadata": {},
     "output_type": "execute_result"
    }
   ],
   "source": [
    "lr2_test_rmse = rmse(y_test, test_preds)\n",
    "lr2_test_rmse"
   ]
  },
  {
   "cell_type": "code",
   "execution_count": 60,
   "metadata": {},
   "outputs": [
    {
     "data": {
      "text/plain": [
       "29710.163580960525"
      ]
     },
     "execution_count": 60,
     "metadata": {},
     "output_type": "execute_result"
    }
   ],
   "source": [
    "lr2_cv = cross_val_score(lr, X, y, cv = 5, scoring = make_scorer(rmse)).mean() # From Mahdi's FAQ\n",
    "lr2_cv"
   ]
  },
  {
   "cell_type": "markdown",
   "metadata": {},
   "source": [
    "This was the best performing model compared the Baseline and all other models based on having the lowest training and testing RMSE.  Additionally, it had the smallest difference between training and testing RMSE, meaning that this is our best fit model."
   ]
  },
  {
   "cell_type": "markdown",
   "metadata": {},
   "source": [
    "## Model Selection"
   ]
  },
  {
   "cell_type": "code",
   "execution_count": 61,
   "metadata": {},
   "outputs": [
    {
     "name": "stdout",
     "output_type": "stream",
     "text": [
      "RMSE for our Baseline model is: 79841.54.\n",
      "Training RMSE for our Linear Regression model is: 31191.54.\n",
      "Testing RMSE for our Linear Regression model is: 27776.94.\n",
      "Training RMSE for our Ridge model is: 24129.73.\n",
      "Testing RMSE for our Ridge model is: 23179.84.\n",
      "Training RMSE for our Lasso model is: 21422.05.\n",
      "Testing RMSE for our Lasso model is: 21016.72.\n",
      "Training RMSE for our Final Linear Regression model is: 20577.43.\n",
      "Testing RMSE for our Final Linear Regression model is: 21413.38.\n"
     ]
    }
   ],
   "source": [
    "print(f'RMSE for our Baseline model is: {round(base_rmse, 2)}.')\n",
    "\n",
    "print(f'Training RMSE for our Linear Regression model is: {round(lr_train_rmse, 2)}.')\n",
    "print(f'Testing RMSE for our Linear Regression model is: {round(lr_test_rmse, 2)}.')\n",
    "print(f'Training RMSE for our Ridge model is: {round(ridge_train_rmse, 2)}.')\n",
    "print(f'Testing RMSE for our Ridge model is: {round(ridge_test_rmse, 2)}.')\n",
    "print(f'Training RMSE for our Lasso model is: {round(lasso_train_rmse, 2)}.')\n",
    "print(f'Testing RMSE for our Lasso model is: {round(lasso_test_rmse, 2)}.')\n",
    "print(f'Training RMSE for our Final Linear Regression model is: {round(lr2_train_rmse, 2)}.')\n",
    "print(f'Testing RMSE for our Final Linear Regression model is: {round(lr2_test_rmse, 2)}.')\n"
   ]
  },
  {
   "cell_type": "markdown",
   "metadata": {},
   "source": [
    "After running all of these models, I am selecting the Linear Model as our interpretive model and the Lasso Model as our predictive model.  While the Lasso Model had the lowest testing RMSE, the difference between the Lasso Model and Linear Model on testing RMSE is close enough and the training RMSE is actually lower on the Linear Model."
   ]
  },
  {
   "cell_type": "markdown",
   "metadata": {},
   "source": [
    "## Model Evaluation"
   ]
  },
  {
   "cell_type": "markdown",
   "metadata": {},
   "source": [
    "Since our Linear Regression is our interpretive model, thanks to the assistance of the Lasso Model, let's dive deeper into what made the model successful by looking at the coefficients."
   ]
  },
  {
   "cell_type": "code",
   "execution_count": 62,
   "metadata": {
    "scrolled": false
   },
   "outputs": [
    {
     "data": {
      "text/html": [
       "<div>\n",
       "<style scoped>\n",
       "    .dataframe tbody tr th:only-of-type {\n",
       "        vertical-align: middle;\n",
       "    }\n",
       "\n",
       "    .dataframe tbody tr th {\n",
       "        vertical-align: top;\n",
       "    }\n",
       "\n",
       "    .dataframe thead th {\n",
       "        text-align: right;\n",
       "    }\n",
       "</style>\n",
       "<table border=\"1\" class=\"dataframe\">\n",
       "  <thead>\n",
       "    <tr style=\"text-align: right;\">\n",
       "      <th></th>\n",
       "      <th>col_name</th>\n",
       "      <th>coef</th>\n",
       "      <th>abs</th>\n",
       "    </tr>\n",
       "  </thead>\n",
       "  <tbody>\n",
       "    <tr>\n",
       "      <th>29</th>\n",
       "      <td>neighborhood_GrnHill</td>\n",
       "      <td>112419.04</td>\n",
       "      <td>112419.04</td>\n",
       "    </tr>\n",
       "    <tr>\n",
       "      <th>47</th>\n",
       "      <td>roof_matl_WdShngl</td>\n",
       "      <td>73518.40</td>\n",
       "      <td>73518.40</td>\n",
       "    </tr>\n",
       "    <tr>\n",
       "      <th>35</th>\n",
       "      <td>neighborhood_StoneBr</td>\n",
       "      <td>49221.49</td>\n",
       "      <td>49221.49</td>\n",
       "    </tr>\n",
       "    <tr>\n",
       "      <th>31</th>\n",
       "      <td>neighborhood_NridgHt</td>\n",
       "      <td>27505.32</td>\n",
       "      <td>27505.32</td>\n",
       "    </tr>\n",
       "    <tr>\n",
       "      <th>38</th>\n",
       "      <td>condition_1_PosA</td>\n",
       "      <td>19443.22</td>\n",
       "      <td>19443.22</td>\n",
       "    </tr>\n",
       "    <tr>\n",
       "      <th>27</th>\n",
       "      <td>neighborhood_Crawfor</td>\n",
       "      <td>17539.46</td>\n",
       "      <td>17539.46</td>\n",
       "    </tr>\n",
       "    <tr>\n",
       "      <th>30</th>\n",
       "      <td>neighborhood_NoRidge</td>\n",
       "      <td>15757.94</td>\n",
       "      <td>15757.94</td>\n",
       "    </tr>\n",
       "    <tr>\n",
       "      <th>49</th>\n",
       "      <td>exterior_1st_BrkFace</td>\n",
       "      <td>14198.50</td>\n",
       "      <td>14198.50</td>\n",
       "    </tr>\n",
       "    <tr>\n",
       "      <th>43</th>\n",
       "      <td>house_style_2.5Fin</td>\n",
       "      <td>12214.35</td>\n",
       "      <td>12214.35</td>\n",
       "    </tr>\n",
       "    <tr>\n",
       "      <th>41</th>\n",
       "      <td>bldg_type_1Fam</td>\n",
       "      <td>10776.21</td>\n",
       "      <td>10776.21</td>\n",
       "    </tr>\n",
       "    <tr>\n",
       "      <th>39</th>\n",
       "      <td>condition_1_PosN</td>\n",
       "      <td>9712.42</td>\n",
       "      <td>9712.42</td>\n",
       "    </tr>\n",
       "    <tr>\n",
       "      <th>25</th>\n",
       "      <td>lot_config_CulDSac</td>\n",
       "      <td>9276.82</td>\n",
       "      <td>9276.82</td>\n",
       "    </tr>\n",
       "    <tr>\n",
       "      <th>22</th>\n",
       "      <td>ms_zoning_FV</td>\n",
       "      <td>7919.00</td>\n",
       "      <td>7919.00</td>\n",
       "    </tr>\n",
       "    <tr>\n",
       "      <th>34</th>\n",
       "      <td>neighborhood_Somerst</td>\n",
       "      <td>7697.96</td>\n",
       "      <td>7697.96</td>\n",
       "    </tr>\n",
       "    <tr>\n",
       "      <th>53</th>\n",
       "      <td>mas_vnr_type_Stone</td>\n",
       "      <td>6728.39</td>\n",
       "      <td>6728.39</td>\n",
       "    </tr>\n",
       "    <tr>\n",
       "      <th>2</th>\n",
       "      <td>overall_qual</td>\n",
       "      <td>5698.47</td>\n",
       "      <td>5698.47</td>\n",
       "    </tr>\n",
       "    <tr>\n",
       "      <th>24</th>\n",
       "      <td>land_contour_HLS</td>\n",
       "      <td>5340.35</td>\n",
       "      <td>5340.35</td>\n",
       "    </tr>\n",
       "    <tr>\n",
       "      <th>11</th>\n",
       "      <td>functional</td>\n",
       "      <td>4932.45</td>\n",
       "      <td>4932.45</td>\n",
       "    </tr>\n",
       "    <tr>\n",
       "      <th>3</th>\n",
       "      <td>overall_cond</td>\n",
       "      <td>4522.54</td>\n",
       "      <td>4522.54</td>\n",
       "    </tr>\n",
       "    <tr>\n",
       "      <th>44</th>\n",
       "      <td>roof_style_Hip</td>\n",
       "      <td>4366.10</td>\n",
       "      <td>4366.10</td>\n",
       "    </tr>\n",
       "    <tr>\n",
       "      <th>50</th>\n",
       "      <td>exterior_1st_CemntBd</td>\n",
       "      <td>3505.75</td>\n",
       "      <td>3505.75</td>\n",
       "    </tr>\n",
       "    <tr>\n",
       "      <th>9</th>\n",
       "      <td>kitchen_qual</td>\n",
       "      <td>3376.47</td>\n",
       "      <td>3376.47</td>\n",
       "    </tr>\n",
       "    <tr>\n",
       "      <th>61</th>\n",
       "      <td>evil_baths</td>\n",
       "      <td>3296.77</td>\n",
       "      <td>3296.77</td>\n",
       "    </tr>\n",
       "    <tr>\n",
       "      <th>54</th>\n",
       "      <td>foundation_PConc</td>\n",
       "      <td>2564.24</td>\n",
       "      <td>2564.24</td>\n",
       "    </tr>\n",
       "    <tr>\n",
       "      <th>8</th>\n",
       "      <td>bsmt_full_bath</td>\n",
       "      <td>2562.47</td>\n",
       "      <td>2562.47</td>\n",
       "    </tr>\n",
       "    <tr>\n",
       "      <th>37</th>\n",
       "      <td>condition_1_Norm</td>\n",
       "      <td>2481.43</td>\n",
       "      <td>2481.43</td>\n",
       "    </tr>\n",
       "    <tr>\n",
       "      <th>19</th>\n",
       "      <td>ms_subclass_20</td>\n",
       "      <td>2327.36</td>\n",
       "      <td>2327.36</td>\n",
       "    </tr>\n",
       "    <tr>\n",
       "      <th>10</th>\n",
       "      <td>totrms_abvgrd</td>\n",
       "      <td>1267.76</td>\n",
       "      <td>1267.76</td>\n",
       "    </tr>\n",
       "    <tr>\n",
       "      <th>14</th>\n",
       "      <td>paved_drive</td>\n",
       "      <td>752.37</td>\n",
       "      <td>752.37</td>\n",
       "    </tr>\n",
       "    <tr>\n",
       "      <th>7</th>\n",
       "      <td>heating_qc</td>\n",
       "      <td>604.92</td>\n",
       "      <td>604.92</td>\n",
       "    </tr>\n",
       "    <tr>\n",
       "      <th>12</th>\n",
       "      <td>fireplace_qu</td>\n",
       "      <td>518.42</td>\n",
       "      <td>518.42</td>\n",
       "    </tr>\n",
       "    <tr>\n",
       "      <th>4</th>\n",
       "      <td>year_built</td>\n",
       "      <td>138.63</td>\n",
       "      <td>138.63</td>\n",
       "    </tr>\n",
       "    <tr>\n",
       "      <th>0</th>\n",
       "      <td>lot_frontage</td>\n",
       "      <td>56.51</td>\n",
       "      <td>56.51</td>\n",
       "    </tr>\n",
       "  </tbody>\n",
       "</table>\n",
       "</div>"
      ],
      "text/plain": [
       "                col_name       coef        abs\n",
       "29  neighborhood_GrnHill  112419.04  112419.04\n",
       "47     roof_matl_WdShngl   73518.40   73518.40\n",
       "35  neighborhood_StoneBr   49221.49   49221.49\n",
       "31  neighborhood_NridgHt   27505.32   27505.32\n",
       "38      condition_1_PosA   19443.22   19443.22\n",
       "27  neighborhood_Crawfor   17539.46   17539.46\n",
       "30  neighborhood_NoRidge   15757.94   15757.94\n",
       "49  exterior_1st_BrkFace   14198.50   14198.50\n",
       "43    house_style_2.5Fin   12214.35   12214.35\n",
       "41        bldg_type_1Fam   10776.21   10776.21\n",
       "39      condition_1_PosN    9712.42    9712.42\n",
       "25    lot_config_CulDSac    9276.82    9276.82\n",
       "22          ms_zoning_FV    7919.00    7919.00\n",
       "34  neighborhood_Somerst    7697.96    7697.96\n",
       "53    mas_vnr_type_Stone    6728.39    6728.39\n",
       "2           overall_qual    5698.47    5698.47\n",
       "24      land_contour_HLS    5340.35    5340.35\n",
       "11            functional    4932.45    4932.45\n",
       "3           overall_cond    4522.54    4522.54\n",
       "44        roof_style_Hip    4366.10    4366.10\n",
       "50  exterior_1st_CemntBd    3505.75    3505.75\n",
       "9           kitchen_qual    3376.47    3376.47\n",
       "61            evil_baths    3296.77    3296.77\n",
       "54      foundation_PConc    2564.24    2564.24\n",
       "8         bsmt_full_bath    2562.47    2562.47\n",
       "37      condition_1_Norm    2481.43    2481.43\n",
       "19        ms_subclass_20    2327.36    2327.36\n",
       "10         totrms_abvgrd    1267.76    1267.76\n",
       "14           paved_drive     752.37     752.37\n",
       "7             heating_qc     604.92     604.92\n",
       "12          fireplace_qu     518.42     518.42\n",
       "4             year_built     138.63     138.63\n",
       "0           lot_frontage      56.51      56.51"
      ]
     },
     "execution_count": 62,
     "metadata": {},
     "output_type": "execute_result"
    }
   ],
   "source": [
    "lr2_coefs = pd.DataFrame({'col_name': X.columns, 'coef': lr.coef_,\n",
    "                       'abs': np.abs(lr.coef_)})\n",
    "round(lr2_coefs.sort_values('coef', ascending = False), 2).head(33)"
   ]
  },
  {
   "cell_type": "markdown",
   "metadata": {},
   "source": [
    "Shows the highest positive correlations."
   ]
  },
  {
   "cell_type": "code",
   "execution_count": 63,
   "metadata": {},
   "outputs": [
    {
     "data": {
      "text/html": [
       "<div>\n",
       "<style scoped>\n",
       "    .dataframe tbody tr th:only-of-type {\n",
       "        vertical-align: middle;\n",
       "    }\n",
       "\n",
       "    .dataframe tbody tr th {\n",
       "        vertical-align: top;\n",
       "    }\n",
       "\n",
       "    .dataframe thead th {\n",
       "        text-align: right;\n",
       "    }\n",
       "</style>\n",
       "<table border=\"1\" class=\"dataframe\">\n",
       "  <thead>\n",
       "    <tr style=\"text-align: right;\">\n",
       "      <th></th>\n",
       "      <th>col_name</th>\n",
       "      <th>coef</th>\n",
       "      <th>abs</th>\n",
       "    </tr>\n",
       "  </thead>\n",
       "  <tbody>\n",
       "    <tr>\n",
       "      <th>17</th>\n",
       "      <td>screen_porch</td>\n",
       "      <td>49.48</td>\n",
       "      <td>49.48</td>\n",
       "    </tr>\n",
       "    <tr>\n",
       "      <th>6</th>\n",
       "      <td>bsmtfin_sf_1</td>\n",
       "      <td>17.11</td>\n",
       "      <td>17.11</td>\n",
       "    </tr>\n",
       "    <tr>\n",
       "      <th>5</th>\n",
       "      <td>mas_vnr_area</td>\n",
       "      <td>16.71</td>\n",
       "      <td>16.71</td>\n",
       "    </tr>\n",
       "    <tr>\n",
       "      <th>16</th>\n",
       "      <td>open_porch_sf</td>\n",
       "      <td>12.21</td>\n",
       "      <td>12.21</td>\n",
       "    </tr>\n",
       "    <tr>\n",
       "      <th>59</th>\n",
       "      <td>sf_t</td>\n",
       "      <td>7.22</td>\n",
       "      <td>7.22</td>\n",
       "    </tr>\n",
       "    <tr>\n",
       "      <th>15</th>\n",
       "      <td>wood_deck_sf</td>\n",
       "      <td>6.53</td>\n",
       "      <td>6.53</td>\n",
       "    </tr>\n",
       "    <tr>\n",
       "      <th>60</th>\n",
       "      <td>evil_garage</td>\n",
       "      <td>6.19</td>\n",
       "      <td>6.19</td>\n",
       "    </tr>\n",
       "    <tr>\n",
       "      <th>62</th>\n",
       "      <td>evil_basement</td>\n",
       "      <td>1.29</td>\n",
       "      <td>1.29</td>\n",
       "    </tr>\n",
       "    <tr>\n",
       "      <th>1</th>\n",
       "      <td>lot_area</td>\n",
       "      <td>0.50</td>\n",
       "      <td>0.50</td>\n",
       "    </tr>\n",
       "    <tr>\n",
       "      <th>64</th>\n",
       "      <td>evil_fieri</td>\n",
       "      <td>0.05</td>\n",
       "      <td>0.05</td>\n",
       "    </tr>\n",
       "    <tr>\n",
       "      <th>65</th>\n",
       "      <td>evil_petting_zoo</td>\n",
       "      <td>0.04</td>\n",
       "      <td>0.04</td>\n",
       "    </tr>\n",
       "    <tr>\n",
       "      <th>63</th>\n",
       "      <td>evil_mcfly</td>\n",
       "      <td>0.03</td>\n",
       "      <td>0.03</td>\n",
       "    </tr>\n",
       "    <tr>\n",
       "      <th>13</th>\n",
       "      <td>garage_finish</td>\n",
       "      <td>-477.94</td>\n",
       "      <td>477.94</td>\n",
       "    </tr>\n",
       "    <tr>\n",
       "      <th>23</th>\n",
       "      <td>ms_zoning_RM</td>\n",
       "      <td>-1943.38</td>\n",
       "      <td>1943.38</td>\n",
       "    </tr>\n",
       "    <tr>\n",
       "      <th>32</th>\n",
       "      <td>neighborhood_OldTown</td>\n",
       "      <td>-3616.30</td>\n",
       "      <td>3616.30</td>\n",
       "    </tr>\n",
       "    <tr>\n",
       "      <th>28</th>\n",
       "      <td>neighborhood_Edwards</td>\n",
       "      <td>-3800.18</td>\n",
       "      <td>3800.18</td>\n",
       "    </tr>\n",
       "    <tr>\n",
       "      <th>20</th>\n",
       "      <td>ms_subclass_90</td>\n",
       "      <td>-4236.56</td>\n",
       "      <td>4236.56</td>\n",
       "    </tr>\n",
       "    <tr>\n",
       "      <th>42</th>\n",
       "      <td>bldg_type_Duplex</td>\n",
       "      <td>-4236.56</td>\n",
       "      <td>4236.56</td>\n",
       "    </tr>\n",
       "    <tr>\n",
       "      <th>33</th>\n",
       "      <td>neighborhood_SawyerW</td>\n",
       "      <td>-4249.58</td>\n",
       "      <td>4249.58</td>\n",
       "    </tr>\n",
       "    <tr>\n",
       "      <th>51</th>\n",
       "      <td>exterior_2nd_HdBoard</td>\n",
       "      <td>-5765.47</td>\n",
       "      <td>5765.47</td>\n",
       "    </tr>\n",
       "    <tr>\n",
       "      <th>18</th>\n",
       "      <td>ms_subclass_160</td>\n",
       "      <td>-8212.75</td>\n",
       "      <td>8212.75</td>\n",
       "    </tr>\n",
       "    <tr>\n",
       "      <th>36</th>\n",
       "      <td>condition_1_Artery</td>\n",
       "      <td>-8609.56</td>\n",
       "      <td>8609.56</td>\n",
       "    </tr>\n",
       "    <tr>\n",
       "      <th>21</th>\n",
       "      <td>ms_zoning_C (all)</td>\n",
       "      <td>-10705.47</td>\n",
       "      <td>10705.47</td>\n",
       "    </tr>\n",
       "    <tr>\n",
       "      <th>40</th>\n",
       "      <td>condition_1_RRAe</td>\n",
       "      <td>-13358.20</td>\n",
       "      <td>13358.20</td>\n",
       "    </tr>\n",
       "    <tr>\n",
       "      <th>57</th>\n",
       "      <td>garage_type_2Types</td>\n",
       "      <td>-15314.38</td>\n",
       "      <td>15314.38</td>\n",
       "    </tr>\n",
       "    <tr>\n",
       "      <th>52</th>\n",
       "      <td>mas_vnr_type_BrkCmn</td>\n",
       "      <td>-15888.44</td>\n",
       "      <td>15888.44</td>\n",
       "    </tr>\n",
       "    <tr>\n",
       "      <th>55</th>\n",
       "      <td>heating_Grav</td>\n",
       "      <td>-23429.84</td>\n",
       "      <td>23429.84</td>\n",
       "    </tr>\n",
       "    <tr>\n",
       "      <th>26</th>\n",
       "      <td>lot_config_FR3</td>\n",
       "      <td>-24104.03</td>\n",
       "      <td>24104.03</td>\n",
       "    </tr>\n",
       "    <tr>\n",
       "      <th>48</th>\n",
       "      <td>exterior_1st_BrkComm</td>\n",
       "      <td>-28959.22</td>\n",
       "      <td>28959.22</td>\n",
       "    </tr>\n",
       "    <tr>\n",
       "      <th>56</th>\n",
       "      <td>heating_OthW</td>\n",
       "      <td>-37041.60</td>\n",
       "      <td>37041.60</td>\n",
       "    </tr>\n",
       "    <tr>\n",
       "      <th>45</th>\n",
       "      <td>roof_style_Mansard</td>\n",
       "      <td>-59190.95</td>\n",
       "      <td>59190.95</td>\n",
       "    </tr>\n",
       "    <tr>\n",
       "      <th>58</th>\n",
       "      <td>misc_feature_Elev</td>\n",
       "      <td>-637506.35</td>\n",
       "      <td>637506.35</td>\n",
       "    </tr>\n",
       "    <tr>\n",
       "      <th>46</th>\n",
       "      <td>roof_matl_ClyTile</td>\n",
       "      <td>-799700.29</td>\n",
       "      <td>799700.29</td>\n",
       "    </tr>\n",
       "  </tbody>\n",
       "</table>\n",
       "</div>"
      ],
      "text/plain": [
       "                col_name       coef        abs\n",
       "17          screen_porch      49.48      49.48\n",
       "6           bsmtfin_sf_1      17.11      17.11\n",
       "5           mas_vnr_area      16.71      16.71\n",
       "16         open_porch_sf      12.21      12.21\n",
       "59                  sf_t       7.22       7.22\n",
       "15          wood_deck_sf       6.53       6.53\n",
       "60           evil_garage       6.19       6.19\n",
       "62         evil_basement       1.29       1.29\n",
       "1               lot_area       0.50       0.50\n",
       "64            evil_fieri       0.05       0.05\n",
       "65      evil_petting_zoo       0.04       0.04\n",
       "63            evil_mcfly       0.03       0.03\n",
       "13         garage_finish    -477.94     477.94\n",
       "23          ms_zoning_RM   -1943.38    1943.38\n",
       "32  neighborhood_OldTown   -3616.30    3616.30\n",
       "28  neighborhood_Edwards   -3800.18    3800.18\n",
       "20        ms_subclass_90   -4236.56    4236.56\n",
       "42      bldg_type_Duplex   -4236.56    4236.56\n",
       "33  neighborhood_SawyerW   -4249.58    4249.58\n",
       "51  exterior_2nd_HdBoard   -5765.47    5765.47\n",
       "18       ms_subclass_160   -8212.75    8212.75\n",
       "36    condition_1_Artery   -8609.56    8609.56\n",
       "21     ms_zoning_C (all)  -10705.47   10705.47\n",
       "40      condition_1_RRAe  -13358.20   13358.20\n",
       "57    garage_type_2Types  -15314.38   15314.38\n",
       "52   mas_vnr_type_BrkCmn  -15888.44   15888.44\n",
       "55          heating_Grav  -23429.84   23429.84\n",
       "26        lot_config_FR3  -24104.03   24104.03\n",
       "48  exterior_1st_BrkComm  -28959.22   28959.22\n",
       "56          heating_OthW  -37041.60   37041.60\n",
       "45    roof_style_Mansard  -59190.95   59190.95\n",
       "58     misc_feature_Elev -637506.35  637506.35\n",
       "46     roof_matl_ClyTile -799700.29  799700.29"
      ]
     },
     "execution_count": 63,
     "metadata": {},
     "output_type": "execute_result"
    }
   ],
   "source": [
    "round(lr2_coefs.sort_values('coef', ascending = False), 2).tail(33)"
   ]
  },
  {
   "cell_type": "markdown",
   "metadata": {},
   "source": [
    "Shows the lowest positive and highest negative correlations"
   ]
  },
  {
   "cell_type": "markdown",
   "metadata": {},
   "source": [
    "This was very interesting to see!  While the correlation evaluation in EDA showed engineered features to have a stronger correlation with Sale Price and neighborhoods not factoring in that much, the coefficients in our Linear Regression say otherwise.  For example, a house in the Green Hills neighborhood automatically would be worth 112419.04 USD more than a house not in Green Hills if all other variables are held constant.  While Overall Quality still plays a part in our Linear Regression, a one unit increase in Overall Quality results in a 5698.47 USD increase in Sale Price.  Now I want to check my residuals to ensure that my Linear Model is appropriately meeting the criterion of residual independence & homoscedasticity."
   ]
  },
  {
   "cell_type": "code",
   "execution_count": 64,
   "metadata": {},
   "outputs": [],
   "source": [
    "resids = y_test - test_preds #calculate residuals"
   ]
  },
  {
   "cell_type": "code",
   "execution_count": 65,
   "metadata": {},
   "outputs": [],
   "source": [
    "''' From Madhi's linear regression lesson, this is a function to plot predictions v. actual for\n",
    "   both training and testing data'''\n",
    "def plot_predictions(model_name, y_train_pred, y_test_pred, y_train_actual, y_test_actual):\n",
    "    sns.scatterplot(y_train_pred, y_train_actual, label = \"Training data\", color = \"green\", alpha = .8)\n",
    "    sns.scatterplot(y_test_pred, y_test_actual, label = \"Testing data\", color = \"red\", alpha = .3) # made red more transparent since it covers up some green\n",
    "    plt.title(model_name+\"Regression Accuracy (Colorblinded for Maximum Evilness)\")\n",
    "    plt.xlabel(\"Evil Prediction Price (in USD)\")\n",
    "    plt.ylabel(\"Actual Sale Price (in USD)\")\n",
    "    plt.legend(loc = \"upper left\")\n",
    "    all_vals = np.concatenate([y_train_pred, y_test_pred, y_train_actual, y_test_actual])\n",
    "    the_max_val = np.max(all_vals)\n",
    "    the_min_val = np.min(all_vals)\n",
    "    plt.plot([the_min_val, the_max_val],[the_min_val, the_max_val], c='black')\n",
    "    plt.tight_layout()\n",
    "\n"
   ]
  },
  {
   "cell_type": "code",
   "execution_count": 66,
   "metadata": {
    "scrolled": false
   },
   "outputs": [
    {
     "data": {
      "image/png": "[encoded data removed]",
      "text/plain": [
       "<Figure size 432x288 with 1 Axes>"
      ]
     },
     "metadata": {
      "needs_background": "light"
     },
     "output_type": "display_data"
    }
   ],
   "source": [
    "plot_predictions(model_name = \"Linear Regression\",\n",
    "                 y_train_pred = train_preds,\n",
    "                 y_test_pred = test_preds,\n",
    "                 y_train_actual = y_train,\n",
    "                 y_test_actual = y_test);"
   ]
  },
  {
   "cell_type": "markdown",
   "metadata": {},
   "source": [
    "This graph does help visualize that the model actually performs better with the testing data than training data.  It appears that the errors seem to fall in the same range.  The training data does show that the model was underpredicting by a higher margin as the price increased.  We start to see that trend for the testing data, so it is possible that if housing values went up significantly in Ames, we might have to build a different model off more current data.  Keep in mind that all of our Sale Price outliers were for the more expensive properties."
   ]
  },
  {
   "cell_type": "code",
   "execution_count": 67,
   "metadata": {
    "scrolled": true
   },
   "outputs": [
    {
     "data": {
      "image/png": "[encoded data removed]",
      "text/plain": [
       "<Figure size 432x288 with 1 Axes>"
      ]
     },
     "metadata": {
      "needs_background": "light"
     },
     "output_type": "display_data"
    }
   ],
   "source": [
    "# Based on Chris Kuzemka's residual plot\n",
    "plt.figure() #sets figure size\n",
    "plt.axhline(0, c = \"r\", alpha = .6) #sets the opacity and color red for the line\n",
    "sns.scatterplot(x = range(len(resids)),y = resids, alpha = .6) #sets the opacity and plots a scatter plot\n",
    "plt.title('Residuals') #\n",
    "plt.xlabel('Testing Predictions')\n",
    "plt.ylabel('Sale Price (in USD)');\n"
   ]
  },
  {
   "cell_type": "markdown",
   "metadata": {},
   "source": [
    "This residual plot shows that our errors do meet the criteria of being homoscedastic (approximately within the same range throughout all of our predictions).  We do see one outlies that severly underpredicts as well as one or two that greatly underpredict."
   ]
  },
  {
   "cell_type": "code",
   "execution_count": 68,
   "metadata": {},
   "outputs": [
    {
     "data": {
      "image/png": "[encoded data removed]",
      "text/plain": [
       "<Figure size 432x288 with 1 Axes>"
      ]
     },
     "metadata": {
      "needs_background": "light"
     },
     "output_type": "display_data"
    }
   ],
   "source": [
    "fig = plt.figure()\n",
    "ax = fig.add_subplot(1,1,1)\n",
    "ax.hist(resids, bins = 10)\n",
    "plt.title('Residual Distribution')\n",
    "plt.xlabel('Sale Price (in USD)')\n",
    "plt.ylabel('Number of Residuals')\n",
    "plt.show();"
   ]
  },
  {
   "cell_type": "markdown",
   "metadata": {},
   "source": [
    "Our residuals do follow an approximately normal distribution, peaking at 0.  I am satisfied with this model and that it fulfills the requirements of a Linear Model."
   ]
  },
  {
   "cell_type": "markdown",
   "metadata": {},
   "source": [
    "## Conclusion"
   ]
  },
  {
   "cell_type": "markdown",
   "metadata": {},
   "source": [
    "Considering our goal was to predict within 50,000 USD of the actual sale price, we have been able to meet that goal.  Our Linear Regression Model that we created after inspecting the coefficients of our Lasso Model was our best choice based on the lowest RMSE score, which was our chosen success metric to begin this project.\n",
    "\n",
    "Based on Dr. Evil's budgetary constraints and due to the greater residuals as price increased, my recommendation would be to be conscious of what areas to buy in order to build an evil lair.  Since world domination is the ultimate goal, neighborhood shouldn't matter all that much, and we could save a lot of money for more evil contraptions."
   ]
  },
  {
   "cell_type": "markdown",
   "metadata": {},
   "source": [
    "### Recommendations\n",
    "\n",
    "This model can be used specifically for Dr. Evil to pay fair value with little hassle.  Additionally, if being an Evil Doctor somehow fails again, Dr. Evil can use this model to go into real estate, which would require little sacrifice on the evil side of things."
   ]
  },
  {
   "cell_type": "markdown",
   "metadata": {},
   "source": [
    "### Future Steps\n",
    "\n",
    "For future modifications, I would like to further investigate the frequency of a feature within my dummy columns vs the coefficients in my model.  For example, there is only one house with a clay tile roof, but it is one of my strongest negative coefficients.  That doesn't aspire a lot of confidence if my model had to predict the price of another house with a clay tile roof.  This further investigation could help me better predict outlier values or allow me to remove more outliers altogether.  I might also want to rerun the Lasso and Ridge models to even better fine tune my Linear Regression.  Lastly, I have a lot of fun feature engineering, and while it didn't factor too strongly in my Linear Regression, perhaps some more creative feature engineering would be able to achieve that."
   ]
  },
  {
   "cell_type": "markdown",
   "metadata": {},
   "source": [
    "## References\n",
    "http://jse.amstat.org/v19n3/decock/DataDocumentation.txt\n",
    "\n",
    "A lot of references to the Austin Powers movies."
   ]
  },
  {
   "cell_type": "markdown",
   "metadata": {},
   "source": [
    "## Kaggle Submission\n",
    "\n",
    "WHATEVER we did to the first dataset, we MUST do to the validation/hold-out set"
   ]
  },
  {
   "cell_type": "code",
   "execution_count": 69,
   "metadata": {},
   "outputs": [],
   "source": [
    "#missing_cols = ['exterior_2nd_Stone', 'exterior_1st_ImStucc', 'condition_2_RRNn', 'ms_subclass_150', 'utilities_3', 'heating_OthW', 'roof_matl_Membran', 'neighborhood_GrnHill', 'misc_feature_TenC', 'utilities_NoSeWa', 'ms_zoning_A (agr)', 'neighborhood_Landmrk', 'condition_2_Artery', 'land_slope_2', 'exterior_1st_CBlock', 'misc_feature_Elev', 'condition_2_RRAe', 'heating_Wall', 'land_slope_1', 'condition_2_PosN', 'roof_matl_ClyTile', 'exterior_1st_Stone', 'condition_2_RRAn']"
   ]
  },
  {
   "cell_type": "code",
   "execution_count": 70,
   "metadata": {},
   "outputs": [],
   "source": [
    "#for col in missing_cols:\n",
    "   # test_df[col] = 0"
   ]
  },
  {
   "cell_type": "code",
   "execution_count": 71,
   "metadata": {},
   "outputs": [],
   "source": [
    "#val = test_df[X_train.columns]"
   ]
  },
  {
   "cell_type": "code",
   "execution_count": 72,
   "metadata": {},
   "outputs": [],
   "source": [
    "#val_sc = ss.transform(val)"
   ]
  },
  {
   "cell_type": "code",
   "execution_count": 73,
   "metadata": {},
   "outputs": [],
   "source": [
    "#preds = lasso_model.predict(val_sc)"
   ]
  },
  {
   "cell_type": "code",
   "execution_count": 74,
   "metadata": {
    "scrolled": false
   },
   "outputs": [],
   "source": [
    "# We need to submit to Kaggle in the appropriate form of .csv\n",
    "# create prediction Series\n",
    "#preds_col = pd.Series(preds, name = \"SalePrice\")\n",
    "# combine with Id\n",
    "#id_col    = test_df[\"id\"]\n",
    "#output = pd.concat([id_col, preds_col], axis = 1)\n",
    "#output.columns = ['Id', 'SalePrice']\n",
    "#output.head()"
   ]
  },
  {
   "cell_type": "code",
   "execution_count": 75,
   "metadata": {},
   "outputs": [],
   "source": [
    "# write to csv\n",
    "\n",
    "#output.to_csv('../output/submission.csv', index = False)"
   ]
  }
 ],
 "metadata": {
  "kernelspec": {
   "display_name": "Python 3",
   "language": "python",
   "name": "python3"
  },
  "language_info": {
   "codemirror_mode": {
    "name": "ipython",
    "version": 3
   },
   "file_extension": ".py",
   "mimetype": "text/x-python",
   "name": "python",
   "nbconvert_exporter": "python",
   "pygments_lexer": "ipython3",
   "version": "3.7.6"
  }
 },
 "nbformat": 4,
 "nbformat_minor": 4
}
